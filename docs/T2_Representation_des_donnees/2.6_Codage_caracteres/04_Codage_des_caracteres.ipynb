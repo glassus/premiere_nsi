{
 "cells": [
  {
   "cell_type": "markdown",
   "metadata": {},
   "source": [
    "# Codage des caractères  \n",
    "tout pour comprendre et Ã©viter les erreurs d'encodage"
   ]
  },
  {
   "cell_type": "markdown",
   "metadata": {},
   "source": [
    "## Au commencement était l'ASCII\n",
    "pour *American Standard Code for Information Interchange*, créé en 1960 aux États-Unis.\n",
    "![](data/ascii.png)\n",
    "\n",
    "En ASCII, 127 points de code (nombres associés aux caractères) sont disponibles. Les caractères sont donc codés sur **7 bits**."
   ]
  },
  {
   "cell_type": "markdown",
   "metadata": {},
   "source": [
    "### Exercice\n",
    "Décoder l'expression suivante, écrite en ASCII :\n",
    "`'1101100 1100101 1110011 100000 1001110 1010011 1001001 100000 1100011 100111 1100101 1110011 1110100 100000 1101100 1100101 1110011 100000 1101101 1100101 1101001 1101100 1101100 1100101 1110101 1110010 1110011 '`\n",
    "\n",
    "**Aide :** \n",
    "- la fonction `split(\" \")` permet de décomposer une chaine de caractères en une liste, en se servant de l'espace `\" \"` comme caractère séparateur.\n",
    "- (rappel) `int(\"1101100\",2)` permet de récupérer facilement la valeur en base 10 du nombre binaire `1101100`."
   ]
  },
  {
   "cell_type": "code",
   "execution_count": 1,
   "metadata": {},
   "outputs": [
    {
     "name": "stdout",
     "output_type": "stream",
     "text": [
      "les NSI c'est les meilleurs\n"
     ]
    }
   ],
   "source": [
    "msg = \"1101100 1100101 1110011 100000 1001110 1010011 1001001 100000 1100011 100111 1100101 1110011 1110100 100000 1101100 1100101 1110011 100000 1101101 1100101 1101001 1101100 1101100 1100101 1110101 1110010 1110011\"\n",
    "msg = msg.split(' ')\n",
    "s = \"\"\n",
    "for k in msg :\n",
    "    s += chr(int(k,2))\n",
    "print(s)"
   ]
  },
  {
   "cell_type": "markdown",
   "metadata": {},
   "source": [
    "## Et le reste du monde ?\n",
    "Lorsque d'autres personnes que des americains ou des anglais ont voulu s'échanger des données faisant intervenir du texte, certains caractères (é, è, à, ñ, Ø, Ö, β, 漢...) étaient manquants. Les 127 caractères de l'ASCII étaient largement insuffisants. \n",
    "Il a donc été décidé de passer à... 256 caractères ! Il suffisait pour cela de coder les caractères non plus sur 7 bits mais sur 8 bits.\n",
    "\n",
    "Ainsi naquît, après de nombreuses modifications successives (la dernière en date rajoutant par exemple le symbole €), la célèbre table **ISO 8859-15**, dite aussi **Latin-9** :\n",
    "![](data/iso-latin.png)"
   ]
  },
  {
   "cell_type": "markdown",
   "metadata": {},
   "source": [
    "### Utilisation :\n",
    "Les codes sont donnés en hexadécimal :\n",
    "- le caractère € correspond au code hexadécimal A4, donc au nombre décimal 164.\n",
    "- le caractère A correspond au code hexadécimal 41, donc au nombre décimal 65.\n",
    "\n",
    "65... comme en ASCII ! Oui, la (seule) bonne idée aura été d'inclure les caractères ASCII avec leur même code, ce qui rendait cette nouvelle norme rétro-compatible.\n",
    "\n",
    "\n",
    "**Exemple :** \n",
    "Le fichier `test.txt` contient un texte enregistré avec l'encodage Latin-9. Ce fichier est ensuite ouvert avec un éditeur hexadécimal, qui permet d'observer la valeur des octets qui composent le fichier. (Comme le fichier est un .txt, le fichier ne contient que les données et rien d'autre.)\n",
    "![](data/hexa_latin.png)\n",
    "\n",
    "\n",
    "\n",
    "\n",
    "\n"
   ]
  },
  {
   "cell_type": "markdown",
   "metadata": {},
   "source": [
    "\n",
    "Parfait, mais comment font les Grecs pour écrire leur alphabet ?\n",
    "Pas de problème, il leur suffit d'utiliser... une autre table, appelée ISO-8859-7 :\n",
    "\n",
    "![](data/isogrec.png)\n",
    "\n",
    "On retrouve les caractères universels hérités de l'ASCII, puis des caractères spécifiques à la langue grecque... oui mais les Thaïlandais alors ? \n",
    "Pas de problème, ils ont la ISO-8859-11 :\n",
    "\n",
    "![](data/isothai.png)"
   ]
  },
  {
   "cell_type": "markdown",
   "metadata": {},
   "source": [
    "Évidemment, quand tous ces gens veulent discuter entre eux, les problèmes d'encodage surviennent immédiatement : certains caractères sont remplacés par d'autres."
   ]
  },
  {
   "cell_type": "markdown",
   "metadata": {},
   "source": [
    "### Que fait un logiciel à l'ouverture d'un fichier texte ?\n",
    "Il essaie de deviner l'encodage utilisé... Parfois cela marche, parfois non.\n",
    "![](data/erreur_nav.png)\n",
    "\n",
    "Normalement, pour un navigateur, une page web correctement codée doit contenir dans une balise `meta` le `charset` utilisé. \n",
    "![](data/source_twitter.png)\n",
    "\n",
    "Mais parfois, il n'y a pas d'autre choix pour le logiciel d'essayer de deviner l'encodage qui semble être utilisé.\n"
   ]
  },
  {
   "cell_type": "markdown",
   "metadata": {},
   "source": [
    "## Exercice :\n",
    "Le mot représenté par les octets ci-dessous est-il encodé en ASCII ou en Latin-9 ?\n",
    "![](data/exo2.png)\n",
    "\n",
    "\n",
    "réponse : c'est du Latin-9, et c'est le mot \"vélo\""
   ]
  },
  {
   "cell_type": "markdown",
   "metadata": {},
   "source": [
    "## Enfin une normalisation : l'arrivée de l'UTF\n",
    "En 1996, le [Consortium Unicode](https://home.unicode.org/) décide de normaliser tout cela et de créer un système unique qui contiendra l'intégralité des caractères dont les êtres humains ont besoin pour communiquer entre eux.  \n",
    "\n",
    "![](data/slogan_unicode.png)\n",
    "\n",
    "\n",
    "Ils créent l'Universal character set Transformation Format : l'UTF. \n",
    "Ou plutôt ils en créent... plusieurs :\n",
    "- l'UTF-8 : les caractères sont codés sur 1, 2, 3 ou 4 octets.\n",
    "- l'UTF-16 : les caractères sont codés sur 2 ou 4 octets.\n",
    "- l'UTF-32 : les caractères sont codés sur 4 octets.\n",
    "\n",
    "Pourquoi est-ce encore si compliqué ? En UTF-32, 32 bits sont disponibles, soit $2^32=4294967296$ caractères différents encodables. \n",
    "\n",
    "C'est largement suffisant, mais c'est surtout très très lourd !  \n",
    "D'autres encodages plus légers, mais plus complexes, sont donc proposés :\n",
    "\n",
    "\n",
    "Arrêtons-nous sur l'UTF-8 :\n",
    "![](data/cap_utf8.png)\n",
    "\n",
    "Le principe fondateur de l'UTF-8 est qu'il est **adaptatif** : les caracères les plus fréquents sont codés sur un octet, qui est la taille minimale (et qui donne le 8 de \"UTF-8\"). Les autres caractères peuvent être codés sur 2, 3 ou 4 octets au maximum.\n",
    "\n",
    "## Utilisation grandissante de l'encodage UTF-8 \n",
    "La majorité des sites internet utilisent maintenant l'UTf-8, tout comme les systèmes d'exploitation récents.\n",
    "![](data/graph_comparaison.png)"
   ]
  },
  {
   "cell_type": "code",
   "execution_count": null,
   "metadata": {},
   "outputs": [],
   "source": []
  }
 ],
 "metadata": {
  "kernelspec": {
   "display_name": "Python 3",
   "language": "python",
   "name": "python3"
  },
  "language_info": {
   "codemirror_mode": {
    "name": "ipython",
    "version": 3
   },
   "file_extension": ".py",
   "mimetype": "text/x-python",
   "name": "python",
   "nbconvert_exporter": "python",
   "pygments_lexer": "ipython3",
   "version": "3.6.9"
  },
  "toc": {
   "base_numbering": 1,
   "nav_menu": {},
   "number_sections": false,
   "sideBar": true,
   "skip_h1_title": false,
   "title_cell": "Table of Contents",
   "title_sidebar": "Contents",
   "toc_cell": false,
   "toc_position": {},
   "toc_section_display": true,
   "toc_window_display": false
  }
 },
 "nbformat": 4,
 "nbformat_minor": 2
}
