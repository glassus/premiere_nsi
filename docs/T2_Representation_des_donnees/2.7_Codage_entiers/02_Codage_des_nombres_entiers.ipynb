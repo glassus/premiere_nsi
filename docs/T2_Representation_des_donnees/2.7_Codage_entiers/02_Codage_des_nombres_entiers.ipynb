{
 "cells": [
  {
   "cell_type": "markdown",
   "metadata": {},
   "source": [
    "# Le codage des nombres entiers\n",
    "*dans toute la suite, sauf mention contraire, les nombres seront codés sur 1 octet.*"
   ]
  },
  {
   "cell_type": "markdown",
   "metadata": {},
   "source": [
    " ## 1. Les nombres entiers en binaire non signé\n",
    " L'expression \"non signé\" signifie que la contrainte du signe n'existe pas : tous les nombres sont considérés comme étant positifs.\n",
    " \n",
    " Nous avons déjà vu comment ces nombres se codaient en binaire.  \n",
    "\n",
    "Sur un octet, le nombre minimal qu'on puisse coder est `00000000`. C'est l'entier naturel 0.  \n",
    "Le nombre maximal qu'on puisse coder est `11111111`. C'est l'entier naturel 255.\n",
    "\n",
    "\n"
   ]
  },
  {
   "cell_type": "markdown",
   "metadata": {
    "solution2": "shown",
    "solution2_first": true
   },
   "source": [
    "**Exercice :**\n",
    "1. Quel est le plus grand entier non signé codable sur 16 bits ?\n",
    "2. ... sur 32 bits ?\n",
    "3. ... $n$ bits ?\n"
   ]
  },
  {
   "cell_type": "markdown",
   "metadata": {
    "solution2": "shown"
   },
   "source": [
    "*correction :*"
   ]
  },
  {
   "cell_type": "markdown",
   "metadata": {
    "solution2": "shown"
   },
   "source": [
    "1. $N=1+2+2^2+2^3+\\dots+2^{15}= 65535$\n",
    "2. $N=1+2+2^2+2^3+\\dots+2^{31}= 4294967295$\n",
    "3. Pour tout $n \\in \\mathbb{N}$, $1+2+2^2+2^3+\\dots+2^{n}=2^{n+1}-1$ (formule de la somme des termes d'une suite géométrique de raison 2)."
   ]
  },
  {
   "cell_type": "markdown",
   "metadata": {
    "solution2": "shown",
    "solution2_first": true
   },
   "source": [
    "**Exercice sur l'addition binaire :**  \n",
    "1. Effectuer la somme des deux nombres binaires `00001101` et `00001011`.\n",
    "2. Vérifier que le résultat est cohérent en base 10."
   ]
  },
  {
   "cell_type": "markdown",
   "metadata": {
    "solution2": "shown"
   },
   "source": [
    "*correction :*"
   ]
  },
  {
   "cell_type": "markdown",
   "metadata": {
    "solution2": "shown"
   },
   "source": [
    "1. ![](data/add1.png)\n",
    "2. Cette addition correspond à $13+11=24$"
   ]
  },
  {
   "cell_type": "markdown",
   "metadata": {},
   "source": [
    " ## 2. Les nombres entiers en binaire signé \n",
    "\n",
    "Comment différencier les nombres positifs des nombres négatifs ?  \n",
    "L'idée naturelle est de réserver 1 bit pour le signe.\n",
    "\n",
    "Par exemple, on peut décréter que le premier bit (appelé **bit de poids fort**) sera le bit de signe :\n",
    "- 0 pour un nombre positif\n",
    "- 1 pour un nombre négatif\n",
    "\n",
    "Dans ce cas, `00000011` serait le nombre $+3$ et `10000011` serait le nombre $-3$.\n",
    "\n",
    "**Problèmes :**\n",
    "- le zéro serait représenté à la fois par `00000000` et `10000000`, ce qui n'est pas très économe.\n",
    "- plus grave : l'addition $(+3)+(-3)$ serait égale à $-6$ !\n",
    "![](data/add2.png)\n"
   ]
  },
  {
   "cell_type": "markdown",
   "metadata": {},
   "source": [
    "**Recherche de l'opposé d'un nombre :**  \n",
    "Que faut-il ajouter au nombre $(+3)$ pour obtenir 0 ?\n",
    "![](data/add3.png)"
   ]
  },
  {
   "cell_type": "markdown",
   "metadata": {},
   "source": [
    "*Indice :* en inversant chaque bit (on dit qu'on prend le *complément à 2* du bit), on obtient en additionnant l'octet maximal `11111111` :\n",
    "![](data/add4.png)\n",
    "Que se passe-t-il alors si on rajoute encore `1` à ce nombre maximal ?\n",
    "La retenue (en anglais *carry*) sera perdue car elle débordera de l'octet : seuls 8 bits sont prévus pour écrire le nombre, le 9ème bit est donc perdu.  \n",
    "\n",
    "Pour trouver l'opposé de `00000011`, il suffit donc de rajouter `1` au nombre construit par complément à 2 :\n",
    "![](data/add5.png)\n",
    "\n",
    "Le nombre $-3$ s'écrit donc `11111101`.\n",
    "\n",
    "*remarque :* ce nombre `11111101` représente 253 en codage non signé. Il est donc nécessaire, lorsqu'on représente un nombre, de savoir si les nombres manipulés seront des entiers naturels (*non signés*) ou bien relatifs (*signés*).\n"
   ]
  },
  {
   "cell_type": "markdown",
   "metadata": {},
   "source": [
    "### Conclusion : méthode de codage de l'opposé d'un nombre positif\n",
    "- On prend le complément à 2 de chaque bit du nombre.\n",
    "- On ajoute 1 au nombre obtenu."
   ]
  },
  {
   "cell_type": "markdown",
   "metadata": {
    "solution2": "shown",
    "solution2_first": true
   },
   "source": [
    "**Exercice :**\n",
    "Donner l'écriture binaire sur un octet du nombre $-13$."
   ]
  },
  {
   "cell_type": "markdown",
   "metadata": {
    "solution2": "shown"
   },
   "source": [
    "*correction :*"
   ]
  },
  {
   "cell_type": "markdown",
   "metadata": {
    "solution2": "shown"
   },
   "source": [
    "Commençons par écrire le nombre 13 en binaire. Il s'écrit  `00001101`.\n",
    "- en prenant le complément à 2 de chaque bit, on obtient `11110010`.\n",
    "- en ajoutant 1 à ce dernier nombre, on obtient `11110011`. \n",
    "\n",
    "Le nombre $-13$ s'écrit donc `11110011`."
   ]
  },
  {
   "cell_type": "markdown",
   "metadata": {},
   "source": [
    "### Travail inverse : passage du binaire signé au nombre relatif\n",
    "Considérons le nombre `11101101`, codé en binaire signé. À quel nombre relatif correspond-il ?\n",
    "1. On observe son bit de poids fort : ici 1, donc ce nombre est négatif. Si ce bit est égal à 0, le nombre codé est positif, il suffit d'opérer une conversion binaire classique.\n",
    "2. Comme ce nombre est négatif, il va falloir inverser le protocole précédent. On commence donc par **enlever 1** au nombre proposé. On trouve `11101100`.\n",
    "3. On prend ensuite le complément à 2 de chaque bit. On trouve `00010011`.\n",
    "4. On convertit en base 10 le nombre obtenu, qui était donc 19.\n",
    "5. Le nombre initial était donc $-19$."
   ]
  },
  {
   "cell_type": "markdown",
   "metadata": {
    "solution2": "shown",
    "solution2_first": true
   },
   "source": [
    "**Exercices :**\n",
    "1. En binaire signé, à quel nombre correspond `11110001`?\n",
    "2. En binaire signé, quel est le plus grand nombre que l'on puisse écrire sur un octet ? \n",
    "3. Quel est le plus petit nombre ?"
   ]
  },
  {
   "cell_type": "markdown",
   "metadata": {
    "solution2": "shown"
   },
   "source": [
    "*correction :*"
   ]
  },
  {
   "cell_type": "markdown",
   "metadata": {
    "solution2": "shown"
   },
   "source": [
    "1. `11110001` - `1` = `11110000`. En prenant le complément à 2, on trouve `00001111`, qui vaut 15. Le nombre `11110001` représente donc $-15$.\n",
    "2. Le plus grand nombre est `01111111`, soit $+127$.\n",
    "3. Le plus petit nombre est `10000000`. `10000000` - `1` = `01111111`. Le complément est `10000000`, qui est égal à 128. Donc le nombre minimal est $-128$."
   ]
  },
  {
   "cell_type": "code",
   "execution_count": null,
   "metadata": {},
   "outputs": [],
   "source": []
  }
 ],
 "metadata": {
  "kernelspec": {
   "display_name": "Python 3",
   "language": "python",
   "name": "python3"
  },
  "language_info": {
   "codemirror_mode": {
    "name": "ipython",
    "version": 3
   },
   "file_extension": ".py",
   "mimetype": "text/x-python",
   "name": "python",
   "nbconvert_exporter": "python",
   "pygments_lexer": "ipython3",
   "version": "3.6.8"
  },
  "toc": {
   "base_numbering": 1,
   "nav_menu": {},
   "number_sections": false,
   "sideBar": true,
   "skip_h1_title": false,
   "title_cell": "Table of Contents",
   "title_sidebar": "Contents",
   "toc_cell": false,
   "toc_position": {},
   "toc_section_display": true,
   "toc_window_display": false
  }
 },
 "nbformat": 4,
 "nbformat_minor": 2
}
