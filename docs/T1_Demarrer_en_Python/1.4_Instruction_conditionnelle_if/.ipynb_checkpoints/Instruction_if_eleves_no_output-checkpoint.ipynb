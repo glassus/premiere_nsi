{
 "cells": [
  {
   "cell_type": "markdown",
   "metadata": {},
   "source": [
    "# <center> Instructions conditionnelles </center>"
   ]
  },
  {
   "cell_type": "markdown",
   "metadata": {},
   "source": [
    "## Syntaxe générale :\n",
    "\n",
    "`if` *condition* `:`  \n",
    "\n",
    "       instruction 1\n",
    "   \n",
    "`else :` \n",
    "\n",
    "       instruction 2"
   ]
  },
  {
   "cell_type": "markdown",
   "metadata": {},
   "source": [
    "### Exemple 1"
   ]
  },
  {
   "cell_type": "code",
   "execution_count": null,
   "metadata": {},
   "outputs": [],
   "source": [
    "n = int(input(\"tapez un nombre strictement plus grand que 3\"))\n",
    "if n > 3 :\n",
    "    print(\"bien\")\n",
    "else :\n",
    "    print(\"j'ai dit plus grand que 3\")"
   ]
  },
  {
   "cell_type": "markdown",
   "metadata": {},
   "source": [
    "La présence du bloc `else :` n'est pas obligatoire. Souvent, les tests ne comportent que la simple instruction `if`."
   ]
  },
  {
   "cell_type": "markdown",
   "metadata": {},
   "source": [
    "### Exemple 2"
   ]
  },
  {
   "cell_type": "code",
   "execution_count": null,
   "metadata": {},
   "outputs": [],
   "source": [
    "n = 158647\n",
    "if n % 9 == 0 :   # l'opération % donne le résultat de la division euclidienne \n",
    "    print(n, \" est divisible par 9\")"
   ]
  },
  {
   "cell_type": "markdown",
   "metadata": {},
   "source": [
    "## Opérateurs de comparaison"
   ]
  },
  {
   "cell_type": "code",
   "execution_count": null,
   "metadata": {},
   "outputs": [],
   "source": [
    "x == y # x est égal à y\n",
    "x != y # x est différent de y\n",
    "x > y  # x est strictement supérieur à y\n",
    "x < y  # x est strictement inférieur à y\n",
    "x >= y # x est supérieur ou égal à y\n",
    "x <= y  # x est inférieur ou égal à y"
   ]
  },
  {
   "cell_type": "markdown",
   "metadata": {},
   "source": [
    "## Conditions multiples"
   ]
  },
  {
   "cell_type": "markdown",
   "metadata": {},
   "source": [
    "Il est possible d'utiliser les opérateurs `and` et `or` afin d'établir des conditions multiples."
   ]
  },
  {
   "cell_type": "markdown",
   "metadata": {},
   "source": [
    "### Exemple 3 : utilisation du `and`\n",
    "Affichons tous les nombres compris entre 100 et 150 à la fois divisibles par 5 et par 7."
   ]
  },
  {
   "cell_type": "code",
   "execution_count": null,
   "metadata": {},
   "outputs": [],
   "source": [
    "for k in range(100,151):\n",
    "    if (k % 3 == 0) and (k % 7 == 0) :\n",
    "        print(k)        "
   ]
  },
  {
   "cell_type": "markdown",
   "metadata": {},
   "source": [
    "**Remarques :** \n",
    "- Lorsqu'il y a plusieurs conditions, il est d'usage de les mettre entre parenthèses.\n",
    "- Si la première condition est FAUSSE, la deuxième n'est même pas évaluée (on parle d'évaluation *paresseuse*)."
   ]
  },
  {
   "cell_type": "code",
   "execution_count": null,
   "metadata": {},
   "outputs": [],
   "source": [
    "n = 13\n",
    "if (n < 10) and (jecristotalementnimportequoi < vivelaNSI):\n",
    "    print(\"ce message ne sera jamais écrit\")\n",
    "print(\"et voilà\")"
   ]
  },
  {
   "cell_type": "markdown",
   "metadata": {},
   "source": [
    "Si on échange la place des deux conditions, on aura un message d'erreur. Pourquoi ?"
   ]
  },
  {
   "cell_type": "markdown",
   "metadata": {},
   "source": [
    "### Exemple 4 : utilisation du `or`\n"
   ]
  },
  {
   "cell_type": "code",
   "execution_count": null,
   "metadata": {},
   "outputs": [],
   "source": [
    "rep = input(\"Quel super-héros s'appelle en réalité Clark Kent ?\")\n",
    "if (rep == \"superman\") or (rep == \"SUPERMAN\") :\n",
    "    print(\"bravo\")\n",
    "else :\n",
    "    print(\"non\")"
   ]
  },
  {
   "cell_type": "markdown",
   "metadata": {},
   "source": [
    "**Remarque :** \n",
    "- Si la première condition est VRAIE, la deuxième n'est même pas évaluée (toujours l'évaluation paresseuse)."
   ]
  },
  {
   "cell_type": "code",
   "execution_count": null,
   "metadata": {},
   "outputs": [],
   "source": [
    "n = 4\n",
    "if (n < 5) or (blablabla > chut) :\n",
    "    print(\"ça marche quand même !\")"
   ]
  },
  {
   "cell_type": "markdown",
   "metadata": {},
   "source": [
    "Si on échange la place des deux conditions, on aura un message d'erreur. Pourquoi ?"
   ]
  },
  {
   "cell_type": "markdown",
   "metadata": {},
   "source": [
    "## Instructions conditionnelles imbriquées"
   ]
  },
  {
   "cell_type": "markdown",
   "metadata": {},
   "source": [
    "### Exemple 5"
   ]
  },
  {
   "cell_type": "code",
   "execution_count": null,
   "metadata": {},
   "outputs": [],
   "source": [
    "annee = 2020\n",
    "if annee % 4 == 0 :\n",
    "    if (annee % 100 == 0) and (annee % 400 != 0) :\n",
    "        print(\"pas bissextile\")\n",
    "    else :\n",
    "        print(\"bissextile\")\n",
    "else :\n",
    "    print(\"pas bissextile\")\n",
    "        "
   ]
  },
  {
   "cell_type": "markdown",
   "metadata": {},
   "source": [
    "## Utilisation de l'instruction `elif`\n",
    "`elif` est la contraction de `else if`. C'est une commande qui permet dans certains cas d'éviter d'imbriquer plusieurs tests."
   ]
  },
  {
   "cell_type": "markdown",
   "metadata": {},
   "source": [
    "### Exemple 6 : utilisation de  `elif`\n",
    "\n",
    "Le ticket d'entrée d'un musée coûte :\n",
    "- 0 € pour les moins de 10 ans\n",
    "- 3 € pour les personnes entre 10 et 18 ans\n",
    "- 7 € pour les plus de 18 ans\n",
    "\n",
    "Compléter ce code, qui pour un âge `a` donné renvoie le prix du ticket d'entrée."
   ]
  },
  {
   "cell_type": "code",
   "execution_count": null,
   "metadata": {},
   "outputs": [],
   "source": [
    "a = 8 # age de la personne\n",
    "if ... :\n",
    "    print(\"0 euro\")\n",
    "elif ... :\n",
    "    print(\"3 euros\")\n",
    "else :\n",
    "    print(\"7 euros\")"
   ]
  },
  {
   "cell_type": "markdown",
   "metadata": {},
   "source": [
    "# Exercice final"
   ]
  },
  {
   "cell_type": "markdown",
   "metadata": {},
   "source": [
    "Proposer à l'utilisateur une multiplication aléatoire (de deux nombres compris entre 2 et 20).\n",
    "Si le résultat proposé est juste, afficher le temps mis pour répondre."
   ]
  },
  {
   "cell_type": "markdown",
   "metadata": {},
   "source": [
    "**Aides**"
   ]
  },
  {
   "cell_type": "markdown",
   "metadata": {},
   "source": [
    "Pour récupérer une valeur tapée au clavier :"
   ]
  },
  {
   "cell_type": "code",
   "execution_count": null,
   "metadata": {},
   "outputs": [],
   "source": [
    "n = int(input(\"valeur ?\"))"
   ]
  },
  {
   "cell_type": "markdown",
   "metadata": {},
   "source": [
    "Pour stocker dans ```a``` un nombre aléatoire entre 10 et 15 :"
   ]
  },
  {
   "cell_type": "code",
   "execution_count": 2,
   "metadata": {},
   "outputs": [],
   "source": [
    "from random import randint\n",
    "a = randint(10,15)"
   ]
  },
  {
   "cell_type": "markdown",
   "metadata": {},
   "source": [
    "Pour récupérer le nombre de secondes écoulées depuis le 01/01/1970 :"
   ]
  },
  {
   "cell_type": "code",
   "execution_count": null,
   "metadata": {},
   "outputs": [],
   "source": [
    "import time\n",
    "a = time.time()\n",
    "print(a)"
   ]
  },
  {
   "cell_type": "code",
   "execution_count": null,
   "metadata": {},
   "outputs": [],
   "source": [
    "# À vous !\n",
    "\n",
    "\n",
    "\n",
    "\n",
    "\n"
   ]
  },
  {
   "cell_type": "code",
   "execution_count": null,
   "metadata": {},
   "outputs": [],
   "source": []
  }
 ],
 "metadata": {
  "kernelspec": {
   "display_name": "Python 3",
   "language": "python",
   "name": "python3"
  },
  "language_info": {
   "codemirror_mode": {
    "name": "ipython",
    "version": 3
   },
   "file_extension": ".py",
   "mimetype": "text/x-python",
   "name": "python",
   "nbconvert_exporter": "python",
   "pygments_lexer": "ipython3",
   "version": "3.6.9"
  },
  "toc": {
   "base_numbering": 1,
   "nav_menu": {},
   "number_sections": false,
   "sideBar": true,
   "skip_h1_title": false,
   "title_cell": "Table of Contents",
   "title_sidebar": "Contents",
   "toc_cell": false,
   "toc_position": {
    "height": "calc(100% - 180px)",
    "left": "10px",
    "top": "150px",
    "width": "386.133px"
   },
   "toc_section_display": true,
   "toc_window_display": false
  }
 },
 "nbformat": 4,
 "nbformat_minor": 2
}
