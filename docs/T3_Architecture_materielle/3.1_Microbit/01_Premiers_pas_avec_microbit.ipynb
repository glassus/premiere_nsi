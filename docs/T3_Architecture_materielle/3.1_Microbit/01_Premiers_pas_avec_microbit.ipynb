{
 "cells": [
  {
   "cell_type": "markdown",
   "metadata": {
    "slideshow": {
     "slide_type": "slide"
    }
   },
   "source": [
    "# micro:bit\n",
    "## Interface homme-machine sur un objet connecté\n",
    "*document basé sur le travail de Thomas Basso, académie de Polynésie*"
   ]
  },
  {
   "cell_type": "markdown",
   "metadata": {
    "slideshow": {
     "slide_type": "slide"
    }
   },
   "source": [
    "# 0. Présentation de la carte BBC micro:bit"
   ]
  },
  {
   "cell_type": "markdown",
   "metadata": {
    "slideshow": {
     "slide_type": "subslide"
    }
   },
   "source": [
    "**BBC micro:bit** est une carte à [microcontrôleur](https://fr.wikipedia.org/wiki/Microcontr%C3%B4leur) conçue en 2015 au Royaume-Uni pour développer l'apprentissage de l'algorithmique et de la programmation."
   ]
  },
  {
   "cell_type": "markdown",
   "metadata": {
    "slideshow": {
     "slide_type": "subslide"
    }
   },
   "source": [
    "![](data/microbit1.png)\n"
   ]
  },
  {
   "cell_type": "markdown",
   "metadata": {
    "slideshow": {
     "slide_type": "subslide"
    }
   },
   "source": [
    "La carte micro:bit dispose des [spécificités techniques](https://microbit.org/fr/guide/features/)  suivantes :\n",
    "\n",
    "- 25 LEDs programmables individuellement\n",
    "- 2 boutons programmables\n",
    "- Broches de connexion\n",
    "- Capteurs de lumière et de température\n",
    "- Capteurs de mouvements (accéléromètre et boussole)\n",
    "- Communication sans fil, via Radio et Bluetooth\n",
    "- Interface USB"
   ]
  },
  {
   "cell_type": "markdown",
   "metadata": {
    "slideshow": {
     "slide_type": "slide"
    }
   },
   "source": [
    "# 1. \"Hello world !\", virtuellement ou IRL...\n",
    "\n",
    "## 1.1 À distance ? Pas de micro:bit ? le simulateur est là !\n",
    "\n",
    "Rendez-vous sur la page [https://create.withcode.uk/](https://create.withcode.uk/)\n",
    "\n",
    "Effacez le code existant et collez-le code ci-dessous :"
   ]
  },
  {
   "cell_type": "code",
   "execution_count": null,
   "metadata": {},
   "outputs": [],
   "source": [
    "from microbit import *\n",
    "\n",
    "while True:\n",
    "    display.scroll('Hello, World!')\n",
    "    display.show(Image.HEART)\n",
    "    sleep(2000)"
   ]
  },
  {
   "cell_type": "markdown",
   "metadata": {},
   "source": [
    "Cliquez sur le triangle vert en bas à droite. C'est parti !\n",
    "![](data/create.png)\n",
    "\n",
    "Pour éviter des erreurs, fermez la fenêtre de droite (le simulateur) à chaque fois que vous modifiez votre code de la partie gauche."
   ]
  },
  {
   "cell_type": "markdown",
   "metadata": {},
   "source": [
    "## 1.2 Avec une micro:bit réelle\n",
    "\n",
    "1. Branchez la carte sur un port USB. Un lecteur MICROBIT apparait dans les périphériques USB.\n",
    "2. Rendez-vous sur l'adresse  [https://create.withcode.uk/](https://create.withcode.uk/)\n",
    "3. Modifiez le code présent puis cliquez sur la flèche verte.\n",
    "4. Vous pouvez télécharger le fichier .hex en cliquant sur Download HEX.\n",
    "5. Transférez (par copier-coller, ou \"envoyer vers\") ce fichier .hex dans votre lecteur micro:bit.\n",
    "\n",
    "Cette procédure est à répeter à chaque nouveau code."
   ]
  },
  {
   "cell_type": "markdown",
   "metadata": {
    "slideshow": {
     "slide_type": "slide"
    }
   },
   "source": [
    "# 2. Découverte des fonctionnalités"
   ]
  },
  {
   "cell_type": "markdown",
   "metadata": {
    "slideshow": {
     "slide_type": "slide"
    }
   },
   "source": [
    "##  2.1 Commandes de base de l'afficheur, matrice de 5x5 LEDs\n",
    "[voir vidéo explicative (en anglais)](https://youtu.be/qqBmvHD5bCw)\n",
    "\n",
    "LED signifie Light Emitting Diode, Diode électroluminescente. La carte micro:bit en dispose de 25, toutes programmables individuellement, ce qui permet d'afficher du texte, des nombres et des images."
   ]
  },
  {
   "cell_type": "markdown",
   "metadata": {
    "slideshow": {
     "slide_type": "fragment"
    }
   },
   "source": [
    "### 2.1.1 Afficher un texte \"défilant\" `display.scroll(string, delay=400)`\n"
   ]
  },
  {
   "cell_type": "code",
   "execution_count": null,
   "metadata": {
    "slideshow": {
     "slide_type": "subslide"
    }
   },
   "outputs": [],
   "source": [
    "from microbit import *\n",
    "display.scroll(\"NSI\")"
   ]
  },
  {
   "cell_type": "markdown",
   "metadata": {
    "slideshow": {
     "slide_type": "fragment"
    }
   },
   "source": [
    "\n",
    "La première ligne de ce programme importe la bibliothèque de fonctions micro:bit. La deuxième ligne fait défiler un message à l’écran. Cela n'arrive qu'une seule fois.\n",
    "\n",
    "\n",
    "La vitesse de défilement peut être ralentie ou accélérée à l'aide du paramètre `delay`. L'unité est la milliseconde."
   ]
  },
  {
   "cell_type": "code",
   "execution_count": null,
   "metadata": {
    "slideshow": {
     "slide_type": "subslide"
    }
   },
   "outputs": [],
   "source": [
    "from microbit import *\n",
    "display.scroll(\"mauriac\", delay=20)"
   ]
  },
  {
   "cell_type": "markdown",
   "metadata": {
    "slideshow": {
     "slide_type": "subslide"
    }
   },
   "source": [
    "### 2.1.2 Afficher une \"image\" `display.show(image)`\n",
    "Exécuter le programme suivant:"
   ]
  },
  {
   "cell_type": "code",
   "execution_count": null,
   "metadata": {
    "slideshow": {
     "slide_type": "fragment"
    }
   },
   "outputs": [],
   "source": [
    "from microbit import *\n",
    "display.show(Image.SAD)"
   ]
  },
  {
   "cell_type": "markdown",
   "metadata": {
    "slideshow": {
     "slide_type": "subslide"
    }
   },
   "source": [
    "Liste des images disponibles :\n",
    "\n",
    "*Image.HEART\n",
    "Image.HEART_SMALL\n",
    "Image.HAPPY\n",
    "Image.SMILE\n",
    "Image.SAD\n",
    "Image.CONFUSED\n",
    "Image.ANGRY\n",
    "Image.ASLEEP\n",
    "Image.SURPRISED\n",
    "Image.SILLY\n",
    "Image.FABULOUS\n",
    "Image.MEH\n",
    "Image.YES\n",
    "Image.NO\n",
    "Image.CLOCK12, Image.CLOCK11, Image.CLOCK10, Image.CLOCK9, Image.CLOCK8, Image.CLOCK7, Image.CLOCK6, Image.CLOCK5, Image.CLOCK4, Image.CLOCK3, Image.CLOCK2, Image.CLOCK1\n",
    "Image.ARROW_N, Image.ARROW_NE, Image.ARROW_E, Image.ARROW_SE, Image.ARROW_S, Image.ARROW_SW, Image.ARROW_W, Image.ARROW_NW\n",
    "Image.TRIANGLE\n",
    "Image.TRIANGLE_LEFT\n",
    "Image.CHESSBOARD\n",
    "Image.DIAMOND\n",
    "Image.DIAMOND_SMALL\n",
    "Image.SQUARE\n",
    "Image.SQUARE_SMALL\n",
    "Image.RABBIT\n",
    "Image.COW\n",
    "Image.MUSIC_CROTCHET\n",
    "Image.MUSIC_QUAVER\n",
    "Image.MUSIC_QUAVERS\n",
    "Image.PITCHFORK\n",
    "Image.XMAS\n",
    "Image.PACMAN\n",
    "Image.TARGET\n",
    "Image.TSHIRT\n",
    "Image.ROLLERSKATE\n",
    "Image.DUCK\n",
    "Image.HOUSE\n",
    "Image.TORTOISE\n",
    "Image.BUTTERFLY\n",
    "Image.STICKFIGURE\n",
    "Image.GHOST\n",
    "Image.SWORD\n",
    "Image.GIRAFFE\n",
    "Image.SKULL\n",
    "Image.UMBRELLA\n",
    "Image.SNAKE*\n"
   ]
  },
  {
   "cell_type": "markdown",
   "metadata": {
    "slideshow": {
     "slide_type": "subslide"
    }
   },
   "source": [
    "#### Créer sa propre image\n",
    "Chaque pixel LED sur l’affichage physique peut prendre une parmi dix valeurs. Si un pixel prend la valeur 0 c’est qu’il est éteint. Littéralement, il a une luminosité de zéro. En revanche, s’il prend la valeur 9 il est à la luminosité maximale. Les valeurs de 1 à 8 représentent des niveaux de luminosité entre éteint (0) et « au maximum » (9)."
   ]
  },
  {
   "cell_type": "code",
   "execution_count": null,
   "metadata": {
    "slideshow": {
     "slide_type": "subslide"
    }
   },
   "outputs": [],
   "source": [
    "from microbit import *\n",
    "\n",
    "bateau = Image(\"05050:\"\n",
    "               \"05050:\"\n",
    "               \"05050:\"\n",
    "               \"99999:\"\n",
    "               \"09990\")\n",
    "\n",
    "display.show(bateau)"
   ]
  },
  {
   "cell_type": "markdown",
   "metadata": {
    "slideshow": {
     "slide_type": "subslide"
    }
   },
   "source": [
    "Comment dessiner une image? Chaque ligne de l’affichage physique est représentée par une ligne de nombres se terminant par `:` et entourée de guillemets doubles `\"`. Chaque nombre indique une luminosité. Il y a cinq lignes de cinq nombres donc il est possible de spécifier la luminosité individuelle de chacune des cinq LED sur chacune des cinq lignes sur l’affichage physique. C’est ainsi que l'on crée une image.\n"
   ]
  },
  {
   "cell_type": "markdown",
   "metadata": {
    "slideshow": {
     "slide_type": "subslide"
    }
   },
   "source": [
    "### 2.1.3 Les pixels (`display.set_pixel(x, y, val)`)\n",
    "Vous pouvez régler la luminosité des pixels de l'affichage individuellement de 0 (désactivé) à 9 (luminosité maximale). Pour des informations sur les coordonnées de l'affichage, voir le [guide pour matrice à LED](https://microbit.org/guide/hardware/leds/).\n",
    "\n",
    "Exécuter le programme suivant:"
   ]
  },
  {
   "cell_type": "code",
   "execution_count": null,
   "metadata": {},
   "outputs": [],
   "source": [
    "from microbit import *\n",
    "display.set_pixel(1, 4, 9)"
   ]
  },
  {
   "cell_type": "markdown",
   "metadata": {},
   "source": [
    "## 2.2 Boucle `while`\n",
    "Le programme suivant utilise une boucle `while` pour faire clignoter le pixel central de manière répétée sur l’écran. La boucle `while` se répète tant que la condition spécifiée est vraie (`True`). Dans ce cas, nous avons dit que la condition est vraie. Cela crée une *boucle infinie*. \n",
    "\n",
    "L'instruction de veille `sleep()` provoque la pause du micro:bit pendant un nombre défini de millisecondes choisi entre parenthèses.\n",
    "\n",
    "L'instruction `display.clear()` éteint l'affichage.\n",
    "\n",
    "Exécuter le programme ci-dessous:"
   ]
  },
  {
   "cell_type": "code",
   "execution_count": null,
   "metadata": {},
   "outputs": [],
   "source": [
    "from microbit import *\n",
    "while True:\n",
    "    display.set_pixel(2, 2, 9)\n",
    "    sleep(500)\n",
    "    display.clear()\n",
    "    sleep(500)"
   ]
  },
  {
   "cell_type": "markdown",
   "metadata": {},
   "source": [
    "#### Avec un peu d'aléatoire  (voir [documentation sur le hasard](https://microbit-micropython.readthedocs.io/fr/latest/tutorials/random.html))\n",
    "Dans le programme suivant que vous exécuterez, on importe `randint` du module `random` de MicroPython et on l'utilise pour afficher un pixel au hasard sur la matrice."
   ]
  },
  {
   "cell_type": "code",
   "execution_count": null,
   "metadata": {},
   "outputs": [],
   "source": [
    "from microbit import *\n",
    "from random import randint\n",
    "n=randint(0,4)\n",
    "p=randint(0,4)\n",
    "display.set_pixel(n, p, 9)"
   ]
  },
  {
   "cell_type": "markdown",
   "metadata": {},
   "source": [
    "Tester le programme précédent plusieurs fois de suite. Pour cela, redémarrer la micro:bit en appuyant sur le bouton `RESET` situé à l'arrière de la carte.\n"
   ]
  },
  {
   "cell_type": "markdown",
   "metadata": {},
   "source": [
    "## 2.3 Boucle `for`"
   ]
  },
  {
   "cell_type": "markdown",
   "metadata": {},
   "source": [
    "Le programme suivant utilise une boucle `for` pour faire défiler un pixel sur une ligne. Exécutez-le."
   ]
  },
  {
   "cell_type": "code",
   "execution_count": null,
   "metadata": {},
   "outputs": [],
   "source": [
    "from microbit import *\n",
    "while True:\n",
    "    for i in range(5):\n",
    "        display.set_pixel(i,0,9)\n",
    "        sleep(200)\n",
    "        display.clear()"
   ]
  },
  {
   "cell_type": "markdown",
   "metadata": {},
   "source": [
    "## 2.4 Les entrées boutons A, B et A+B - programmation événementielle [(vidéo explicative)](https://youtu.be/t_Qujjd_38o)\n",
    "<div style=\"text-align:center\">\n",
    "    <img src=\"data/mb_AB.png\" width=\"25%\" style=\"display:inline-block; margin-top:10px !important\"/>\n",
    "</div>\n",
    " Il y a deux boutons sur la face avant du micro:bit (étiquetés A et B). On peut détecter quand ces boutons sont pressés, ce qui permet de déclencher des instructions sur l'appareil."
   ]
  },
  {
   "cell_type": "markdown",
   "metadata": {},
   "source": [
    "Exemples avec le boutton A:\n",
    "- `button_a.is_pressed()`: renvoie *True* si le bouton spécifié est actuellement enfoncé et *False* sinon.\n",
    "- `button_a.was_pressed()`: renvoie *True* ou *False* pour indiquer si le bouton a été appuyé depuis le démarrage de l'appareil ou la dernière fois que cette méthode a été appelée."
   ]
  },
  {
   "cell_type": "markdown",
   "metadata": {},
   "source": [
    "**Exemple :** Essayer le programme suivant qui fait défiler le texte \"NSI\" indéfiniment. On introduit l'**instruction conditionnelle** `if` qui va tester si le bouton A a été pressé (pendant le défilement du texte ou pendant la pause), auquel cas le programme s'arrête en exécutant la commande `break`."
   ]
  },
  {
   "cell_type": "code",
   "execution_count": null,
   "metadata": {},
   "outputs": [],
   "source": [
    "from microbit import *\n",
    "while True:\n",
    "    display.scroll(\"NSI\")\n",
    "    sleep(200)\n",
    "    if button_a.was_pressed():\n",
    "        break"
   ]
  },
  {
   "cell_type": "markdown",
   "metadata": {},
   "source": [
    "## Exercice 1 :\n",
    "Créer le code permettant de basculer d'un visage triste à un visage heureux suivant qu'on appuie sur A ou sur B. \n",
    "\n",
    "![](data/exo1.webp)\n",
    "\n",
    "[correction](https://gist.github.com/glassus/0474710375a897a7d92d8478ec6a6ba1)"
   ]
  },
  {
   "cell_type": "markdown",
   "metadata": {},
   "source": [
    "## Exercice 2 :\n",
    "On veut créer le code permettant de déplacer un point vers la gauche ou vers la droite en appuyant sur A ou sur B.\n",
    "\n",
    "\n",
    "![](data/exo2.webp)\n",
    "\n",
    "Compléter le code proposé :"
   ]
  },
  {
   "cell_type": "code",
   "execution_count": null,
   "metadata": {},
   "outputs": [],
   "source": [
    "from microbit import *\n",
    "display.clear()\n",
    "i = 12\n",
    "while True:\n",
    "    x = ... # à compléter\n",
    "    y = ... # à compléter\n",
    "    display.set_pixel(x,y,9)\n",
    "    if button_a.was_pressed():\n",
    "        display.set_pixel(x,y,0)\n",
    "        i = i - 1\n",
    "        if i < 0 : \n",
    "            i = 0\n",
    "    if button_b.was_pressed():\n",
    "        display.set_pixel(x,y,0)\n",
    "        i = i + 1\n",
    "        if i > 24 :\n",
    "            i = 24"
   ]
  },
  {
   "cell_type": "markdown",
   "metadata": {},
   "source": [
    "## Exercice 3 :\n",
    "Créer le code permettant de faire défiler toutes les images disponibles. \n",
    "Bouton B pour passer à l'image suivante, bouton A pour revenir à l'image précédente.\n",
    "\n",
    "![](data/exo3.webp)\n",
    "\n",
    "Compléter le code proposé :"
   ]
  },
  {
   "cell_type": "code",
   "execution_count": null,
   "metadata": {},
   "outputs": [],
   "source": [
    "from microbit import *\n",
    "\n",
    "lst = [Image.HEART, Image.HEART_SMALL, Image.HAPPY, Image.SMILE,\n",
    "       Image.SAD, Image.CONFUSED, Image.ANGRY, Image.ASLEEP, Image.SURPRISED, Image.SILLY,\n",
    "       Image.FABULOUS, Image.MEH, Image.YES, Image.NO, Image.CLOCK12,\n",
    "       Image.CLOCK11, Image.CLOCK10, Image.CLOCK9, Image.CLOCK8, Image.CLOCK7,\n",
    "       Image.CLOCK6, Image.CLOCK5, Image.CLOCK4, Image.CLOCK3, Image.CLOCK2,\n",
    "       Image.CLOCK1, Image.ARROW_N, Image.ARROW_NE, Image.ARROW_E, Image.ARROW_SE,\n",
    "       Image.ARROW_S, Image.ARROW_SW, Image.ARROW_W, Image.ARROW_NW, Image.TRIANGLE,\n",
    "       Image.TRIANGLE_LEFT, Image.CHESSBOARD, Image.DIAMOND, Image.DIAMOND_SMALL, Image.SQUARE,\n",
    "       Image.SQUARE_SMALL, Image.RABBIT, Image.COW, Image.MUSIC_CROTCHET, Image.MUSIC_QUAVER,\n",
    "       Image.MUSIC_QUAVERS, Image.PITCHFORK, Image.XMAS, Image.PACMAN, Image.TARGET, Image.TSHIRT,\n",
    "       Image.ROLLERSKATE, Image.DUCK, Image.HOUSE, Image.TORTOISE, Image.BUTTERFLY, Image.STICKFIGURE,\n",
    "       Image.GHOST, Image.SWORD, Image.GIRAFFE, Image.SKULL, Image.UMBRELLA, Image.SNAKE]\n",
    "\n"
   ]
  },
  {
   "cell_type": "markdown",
   "metadata": {},
   "source": [
    "## 2.5 Capteur de lumière [(vidéo)](https://youtu.be/TKhCr-dQMBY)\n",
    "\n",
    "En inversant les LEDs d'un écran pour devenir un point d'entrée, l'écran LED devient un capteur de lumière basique, permettant de détecter la luminosité ambiante.\n",
    "\n",
    "La commande `display.read_light_level()` retourne un entier compris entre 0 et 255 représentant le niveau de lumière."
   ]
  },
  {
   "cell_type": "markdown",
   "metadata": {},
   "source": [
    "**Exercice :** Compléter le programme ci-dessous qui affiche une image de lune si on baisse la luminosité (en recouvrant la carte avec sa main par exemple) et un soleil sinon."
   ]
  },
  {
   "cell_type": "code",
   "execution_count": null,
   "metadata": {},
   "outputs": [],
   "source": [
    "\n",
    "from microbit import *\n",
    "\n",
    "soleil = Image(\"90909:\"\n",
    "               \"09990:\"\n",
    "               \"99999:\"\n",
    "               \"09990:\"\n",
    "               \"90909:\")\n",
    "\n",
    "lune = Image(\"00999:\"\n",
    "             \"09990:\"\n",
    "             \"09900:\"\n",
    "             \"09990:\"\n",
    "             \"00999:\")\n",
    "\n",
    "while True:\n",
    "    if display.read_light_level()> ... : #trouver la bonne valeur (entre 0 et 255)\n",
    "        display.show(soleil)\n",
    "    else:\n",
    "        display.show(...) #trouver la bonne variable\n",
    "    sleep(10)"
   ]
  },
  {
   "cell_type": "markdown",
   "metadata": {},
   "source": [
    "**Prolongement:** créer un programme qui affiche le niveau de luminosité et le tester avec la LED d'un téléphone portable ou une lampe-torche par exemple. Plus la luminosité sera élevée, plus il y aura de LEDs affichées sur la matrice."
   ]
  },
  {
   "cell_type": "markdown",
   "metadata": {},
   "source": [
    "## 2.6 Capteur de température [(vidéo)](https://youtu.be/_T4N8O9xsMA)\n",
    "\n",
    "\n",
    "Le micro:bit n’a pas un capteur de température dédié. Au lieu de cela, la température fournie est en fait la température de la puce de silicium du processeur principal. Comme le processeur chauffe peu en fonctionnement (c'est un processeur ARM à grande efficacité), sa température est une bonne approximation de la température ambiante.\n",
    "L'instruction `temperature()` renvoie la température de la carte micro:bit en degrés Celsius."
   ]
  },
  {
   "cell_type": "markdown",
   "metadata": {},
   "source": [
    "**Exercice :** Ecrire un programme qui affiche la température (aide: on pourra utiliser l'instruction `display.scroll()`; revoir le point 2.1.1)."
   ]
  },
  {
   "cell_type": "markdown",
   "metadata": {},
   "source": [
    "## 2.7 Accéléromètre [(vidéo)](https://youtu.be/byngcwjO51U)\n",
    "\n",
    "Un accéléromètre mesure l'accélération de la carte micro:bit, ce composant détecte quand la micro:bit est en mouvement. Il peut aussi détecter d'autres actions (gestes), par exemple quand elle est secouée, inclinée ou qu'elle tombe.\n",
    "\n"
   ]
  },
  {
   "cell_type": "markdown",
   "metadata": {},
   "source": [
    "La carte micro:bit est munie d’un accéléromètre. Il mesure le mouvement selon trois axes :\n",
    "\n",
    "- X - l’inclinaison de gauche à droite.\n",
    "- Y - l’inclinaison d’avant en arrière.\n",
    "- Z - le mouvement haut et bas.\n",
    "\n",
    "Dans l'exemple suivant à essayer, l'instruction `accelerometer.get_x()` permet de détecter un mouvement de gauche à droite en renvoyant un nombre compris entre -1023 et 1023; 0 étant la position \"d'équilibre\""
   ]
  },
  {
   "cell_type": "code",
   "execution_count": null,
   "metadata": {},
   "outputs": [],
   "source": [
    "#Exemple\n",
    "from microbit import *\n",
    "\n",
    "while True:\n",
    "    abscisse = accelerometer.get_x()\n",
    "    if abscisse > 500:\n",
    "        display.show(Image.ARROW_E)\n",
    "    elif abscisse < -500:\n",
    "        display.show(Image.ARROW_W)\n",
    "    else:\n",
    "        display.show(\"-\")"
   ]
  },
  {
   "cell_type": "markdown",
   "metadata": {},
   "source": [
    "**Prolongement (*secouer les dés!*):** Ecrire un programme qui simule un dé en affichant une face au hasard lorsque la micro:bit est secouée. On pourra utiliser l'instruction `accelerometer.is_gesture(shake)` qui teste si la carte est secouée. Plus d'informations sur les gestes [ici](https://microbit-micropython.readthedocs.io/fr/latest/tutorials/gestures.html)."
   ]
  },
  {
   "cell_type": "markdown",
   "metadata": {},
   "source": [
    "## 2.8 Boussole\n",
    "\n",
    "La boussole détecte le champ magnétique de la Terre, nous permettant de savoir quelle direction la micro:bit indique. La boussole doit être étalonnée avant de pouvoir être utilisée. Pour cela, on utilise `compass.calibrate()` qui exécute un petit jeu: au départ, micro:bit fait défiler \"Tilt to fill screen\". Ensuite, incliner micro:bit pour déplacer le point au centre de l’écran autour jusqu'à ce que vous ayez rempli la totalité de l’écran.\n",
    "\n",
    "La fonction `compass.heading()` donne le cap de la boussole sous la forme d'un entier compris entre 0 et 360, représentant l'angle en degrés, dans le sens des aiguilles d'une montre, avec le nord égal à 0."
   ]
  },
  {
   "cell_type": "markdown",
   "metadata": {},
   "source": [
    "**Exercice :** Compléter le programme suivant qui indique le Nord."
   ]
  },
  {
   "cell_type": "code",
   "execution_count": null,
   "metadata": {},
   "outputs": [],
   "source": [
    "\n",
    "from microbit import *\n",
    "\n",
    "compass.calibrate()\n",
    "\n",
    "while True:\n",
    "    if compass.heading() < \"remplir ici\" or compass.heading() > \"remplir ici\":\n",
    "        display.show(Image.ARROW_N)\n",
    "    else:\n",
    "        display.show(Image.DIAMOND_SMALL)"
   ]
  },
  {
   "cell_type": "markdown",
   "metadata": {},
   "source": [
    "**Prolongement:** Améliorer le programme pour que le micro:bit indique \"N\", \"S\", \"E\" et \"O\" en fonction de l'orientation de la boussole.\n",
    "\n",
    "**Autre prolongement:** fabriquer une station météo qui détermine la direction du vent.\n",
    "\n",
    "**Autre prolongement:** étudier l'intensité du champ magnétique autour du périphérique (en utilisant la fonction `compass.get_field_strength()`). Plus d'informations sur les fonctions \"boussole\" [ici](https://microbit-micropython.readthedocs.io/en/latest/compass.html)."
   ]
  }
 ],
 "metadata": {
  "kernelspec": {
   "display_name": "Python 3",
   "language": "python",
   "name": "python3"
  },
  "language_info": {
   "codemirror_mode": {
    "name": "ipython",
    "version": 3
   },
   "file_extension": ".py",
   "mimetype": "text/x-python",
   "name": "python",
   "nbconvert_exporter": "python",
   "pygments_lexer": "ipython3",
   "version": "3.6.9"
  },
  "toc": {
   "base_numbering": 1,
   "nav_menu": {},
   "number_sections": false,
   "sideBar": true,
   "skip_h1_title": false,
   "title_cell": "Table of Contents",
   "title_sidebar": "Contents",
   "toc_cell": false,
   "toc_position": {},
   "toc_section_display": true,
   "toc_window_display": false
  }
 },
 "nbformat": 4,
 "nbformat_minor": 2
}
