{
 "cells": [
  {
   "cell_type": "markdown",
   "metadata": {},
   "source": [
    "# Les opérateurs booléens\n",
    "\n",
    "\n",
    "### Repères historiques\n",
    "\n",
    "![](data/portrait_boole.jpg)\n",
    "\n",
    "En 1847, le  britannique  *George BOOLE*  inventa un formalisme permettant d'écrire des raisonnements logiques : l'algèbre de Boole. La notion même d'informatique n'existait pas à l'époque, même si les calculs étaient déjà automatisés (penser à la Pascaline de 1642).\n",
    "\n",
    "Bien plus tard, en  1938, les travaux de l'américain *Claude  SHANNON*  prouva  que des  circuits  électriques\n",
    "peuvent  résoudre tous  les  problèmes  que l'algèbre  de  Boole peut  elle-même résoudre.  Pendant la deuxième guerre mondiale, les travaux  d'*Alan  TURING*  puis de *John VON NEUMANN* poseront définitivement les bases de l'informatique moderne."
   ]
  },
  {
   "cell_type": "markdown",
   "metadata": {},
   "source": [
    "# Algèbre de Boole\n",
    "\n",
    "L'algèbre de Boole définit des opérations dans un ensemble\n",
    "qui ne contient que **deux éléments** notés **0 et 1**, ou bien **FAUX et VRAI** ,ou encore **False** et **True** (en Python)\n",
    "\n",
    "Les opérations fondamentales sont :\n",
    "- la *conjonction* (\"ET\") \n",
    "- la *disjonction* (\"OU\") \n",
    "- la *négation* (\"NON\").\n",
    "\n",
    "Dans  toute la  suite,  `x` et  `y` désigneront  des  *Booléens* (éléments  d'une\n",
    "algèbre de Boole) quelconques, `F` désignera FAUX et `V` désignera VRAI."
   ]
  },
  {
   "cell_type": "markdown",
   "metadata": {},
   "source": [
    "____________"
   ]
  },
  {
   "cell_type": "markdown",
   "metadata": {},
   "source": [
    "## Conjonction (AND)\n",
    "- symbole usuel : &\n",
    "- français : ET\n",
    "- anglais (et Python) : `and`\n",
    "- notation logique : $\\wedge$\n",
    "- notation mathémtique :  `.`\n",
    "\n",
    "C'est l'opération définie par:\n",
    "\n",
    "* `x & F = F`\n",
    "* `x & V = x`"
   ]
  },
  {
   "cell_type": "markdown",
   "metadata": {},
   "source": [
    "Puisque l'algèbre de  Boole ne contient que deux éléments,  on peut étudier tous\n",
    "les cas possibles et les regrouper dans un tableau appelé **table de vérité**:\n",
    "\n",
    "\n",
    "|`x`| `y` | `x & y`|\n",
    "|:--:|:-:|:--:|\n",
    "|F|F|F|\n",
    "|F|V|F|\n",
    "|V|F|F|\n",
    "|V|V|V|\n",
    "\n",
    "\n",
    "On représente souvent les opérateurs booléens à l'aide de portes logiques:\n",
    "![](data/porte_et.png)\n",
    "\n",
    "Notation usuelle en électronique : $Q=A \\wedge B$\n",
    "![](data/and.png)\n"
   ]
  },
  {
   "cell_type": "markdown",
   "metadata": {},
   "source": [
    "### Exemples en Python"
   ]
  },
  {
   "cell_type": "code",
   "execution_count": 2,
   "metadata": {},
   "outputs": [],
   "source": [
    "n = 20"
   ]
  },
  {
   "cell_type": "code",
   "execution_count": 2,
   "metadata": {},
   "outputs": [
    {
     "data": {
      "text/plain": [
       "False"
      ]
     },
     "execution_count": 2,
     "metadata": {},
     "output_type": "execute_result"
    }
   ],
   "source": [
    "(n % 10 == 0) and (n % 7 == 0)"
   ]
  },
  {
   "cell_type": "code",
   "execution_count": 4,
   "metadata": {},
   "outputs": [
    {
     "data": {
      "text/plain": [
       "True"
      ]
     },
     "execution_count": 4,
     "metadata": {},
     "output_type": "execute_result"
    }
   ],
   "source": [
    "(n % 4 == 0) and (n % 5 == 0)"
   ]
  },
  {
   "cell_type": "markdown",
   "metadata": {},
   "source": [
    "#### L'évaluation paresseuse\n",
    "Pouvez-vous prévoir le résultat du code ci-dessous ?"
   ]
  },
  {
   "cell_type": "code",
   "execution_count": 3,
   "metadata": {},
   "outputs": [
    {
     "ename": "ZeroDivisionError",
     "evalue": "integer division or modulo by zero",
     "output_type": "error",
     "traceback": [
      "\u001b[0;31m---------------------------------------------------------------------------\u001b[0m",
      "\u001b[0;31mZeroDivisionError\u001b[0m                         Traceback (most recent call last)",
      "\u001b[0;32m<ipython-input-3-d8a98dcba9be>\u001b[0m in \u001b[0;36m<module>\u001b[0;34m\u001b[0m\n\u001b[0;32m----> 1\u001b[0;31m \u001b[0;34m(\u001b[0m\u001b[0mn\u001b[0m \u001b[0;34m%\u001b[0m \u001b[0;36m4\u001b[0m \u001b[0;34m==\u001b[0m \u001b[0;36m0\u001b[0m\u001b[0;34m)\u001b[0m \u001b[0;32mand\u001b[0m \u001b[0;34m(\u001b[0m\u001b[0mn\u001b[0m \u001b[0;34m%\u001b[0m \u001b[0;36m0\u001b[0m \u001b[0;34m==\u001b[0m \u001b[0;36m0\u001b[0m\u001b[0;34m)\u001b[0m\u001b[0;34m\u001b[0m\u001b[0;34m\u001b[0m\u001b[0m\n\u001b[0m",
      "\u001b[0;31mZeroDivisionError\u001b[0m: integer division or modulo by zero"
     ]
    }
   ],
   "source": [
    "(n % 4 == 0) and (n % 0 == 0)"
   ]
  },
  {
   "cell_type": "markdown",
   "metadata": {},
   "source": [
    "Évidemment, la division par 0 provoque une erreur.  \n",
    "Mais observez maintenant ce code :"
   ]
  },
  {
   "cell_type": "code",
   "execution_count": 4,
   "metadata": {},
   "outputs": [
    {
     "data": {
      "text/plain": [
       "False"
      ]
     },
     "execution_count": 4,
     "metadata": {},
     "output_type": "execute_result"
    }
   ],
   "source": [
    "(n % 7 == 0) and (n % 0 == 0)"
   ]
  },
  {
   "cell_type": "markdown",
   "metadata": {},
   "source": [
    "On appelle **évaluation paresseuse** le fait que l'interpréteur Python s'arrête dès que sa décision est prise : comme le premier booléen vaut False et que la conjonction `and` est appelée, il n'est pas nécessaire d'évaluer le deuxième booléen. "
   ]
  },
  {
   "cell_type": "markdown",
   "metadata": {},
   "source": [
    "____________"
   ]
  },
  {
   "cell_type": "markdown",
   "metadata": {},
   "source": [
    "## Disjonction (OR)\n",
    "\n",
    "- symbole usuel : |\n",
    "- français : OU\n",
    "- anglais (et Python) : `or`\n",
    "- notation logique : $\\vee$\n",
    "- notation mathématique :  $+$\n",
    "\n",
    "C'est l'opération définie par:\n",
    "\n",
    "\n",
    "C'est l'opération définie par:\n",
    "\n",
    "* `x | V = V`\n",
    "* `x | F = x`\n",
    "\n",
    "On en déduit la table suivante:\n",
    "\n",
    "\n",
    "\n",
    "|`x`| `y` | `x or y`|\n",
    "|:--:|:----:|:--:|\n",
    "|F|F| F|\n",
    "|F|V|V|\n",
    "|V|F|V|\n",
    "|V|V|V|\n",
    "\n",
    "\n",
    "\n",
    "![](data/porte_ou.png)\n",
    "\n",
    "Notation usuelle en électronique : $Q=A \\vee B$\n",
    "\n",
    "![](data/or.png)\n"
   ]
  },
  {
   "cell_type": "markdown",
   "metadata": {},
   "source": [
    "### Exemples en Python"
   ]
  },
  {
   "cell_type": "code",
   "execution_count": 3,
   "metadata": {},
   "outputs": [],
   "source": [
    "n = 20"
   ]
  },
  {
   "cell_type": "code",
   "execution_count": 5,
   "metadata": {},
   "outputs": [
    {
     "data": {
      "text/plain": [
       "True"
      ]
     },
     "execution_count": 5,
     "metadata": {},
     "output_type": "execute_result"
    }
   ],
   "source": [
    "(n % 10 == 0) or (n % 7 == 0)"
   ]
  },
  {
   "cell_type": "code",
   "execution_count": 6,
   "metadata": {},
   "outputs": [
    {
     "data": {
      "text/plain": [
       "True"
      ]
     },
     "execution_count": 6,
     "metadata": {},
     "output_type": "execute_result"
    }
   ],
   "source": [
    "(n % 4 == 0) or (n % 5 == 0)"
   ]
  },
  {
   "cell_type": "code",
   "execution_count": 7,
   "metadata": {
    "scrolled": true
   },
   "outputs": [
    {
     "data": {
      "text/plain": [
       "False"
      ]
     },
     "execution_count": 7,
     "metadata": {},
     "output_type": "execute_result"
    }
   ],
   "source": [
    "(n % 7 == 0) or (n % 3 == 0)"
   ]
  },
  {
   "cell_type": "markdown",
   "metadata": {},
   "source": [
    "#### L'évaluation paresseuse (retour)\n",
    "Pouvez-vous prévoir le résultat du code ci-dessous ?"
   ]
  },
  {
   "cell_type": "code",
   "execution_count": null,
   "metadata": {},
   "outputs": [],
   "source": [
    "(n % 5 == 0) or (n % 0 == 0)"
   ]
  },
  {
   "cell_type": "markdown",
   "metadata": {},
   "source": [
    "## Négation (NOT)\n",
    "\n",
    "- symbole usuel : ~\n",
    "- français : NON\n",
    "- anglais (et Python) : `not`\n",
    "- notation logique :  $\\neg$\n",
    "- notation mathématique :  $\\overline{x}$\n",
    "\n",
    "C'est l'opération définie par:\n",
    "\n",
    "* `~V = F`\n",
    "* `~F = V`\n",
    "\n",
    "On en déduit la table suivante:\n",
    "\n",
    "\n",
    "|`x`| `~x` |\n",
    "|:--:|:----:|\n",
    "|F|V|\n",
    "|V|F|\n",
    "\n",
    "![](data/porte_non.png)\n",
    "\n",
    "Notation usuelle en électronique : $Q=\\neg A$\n",
    "\n",
    "![](data/no.png)"
   ]
  },
  {
   "cell_type": "markdown",
   "metadata": {},
   "source": [
    "### Exemples en Python"
   ]
  },
  {
   "cell_type": "code",
   "execution_count": 3,
   "metadata": {},
   "outputs": [],
   "source": [
    "n = 20"
   ]
  },
  {
   "cell_type": "code",
   "execution_count": 8,
   "metadata": {},
   "outputs": [
    {
     "data": {
      "text/plain": [
       "False"
      ]
     },
     "execution_count": 8,
     "metadata": {},
     "output_type": "execute_result"
    }
   ],
   "source": [
    "not(n % 10 == 0)"
   ]
  },
  {
   "cell_type": "markdown",
   "metadata": {},
   "source": [
    "## Exercice 1\n",
    "\n",
    "Comprendre [ce mème](https://www.reddit.com/r/engineeringmemes/comments/897mu2/logic_gates_drake_version/).\n",
    "\n",
    "\n",
    "## Exercice 2\n",
    "1. Ouvrir le [simulateur de circuits](http://dept-info.labri.fr/ENSEIGNEMENT/archi/circuits/blank-teacher.html) et créer pour chaque opération AND, OR, NOT un circuit électrique illustrant ses propriétés.\n",
    "\n",
    "Exemple (inintéressant) de circuit :\n",
    "![](data/ex_circuit.png)\n",
    "\n",
    "2. Utiliser successivement les circuits XOR, NAND et NOR et établir pour chacun leur table de vérité."
   ]
  },
  {
   "cell_type": "markdown",
   "metadata": {},
   "source": [
    "# Fonctions composées\n",
    "\n",
    "## Disjonction exclusive XOR\n",
    "(en français OU EXCLUSIF)\n",
    "\n",
    "`x ^ y = (x & ~y) | (~x & y)`\n",
    "\n",
    "\n",
    "|`x`| `y` | `x ^ y`|\n",
    "|:--:|:----:|:--:|\n",
    "|F|F| F|\n",
    "|F|V|V|\n",
    "|V|F|V|\n",
    "|V|V|F|\n",
    "\n",
    "\n",
    "\n",
    "![](data/porte_xor.png)\n",
    "\n",
    "![](data/xor.png)"
   ]
  },
  {
   "cell_type": "markdown",
   "metadata": {},
   "source": [
    "Le XOR joue un rôle fondamental en cryptographie car il possède une propriété très intéressante : \n",
    "$(x\\wedge y)\\wedge y=x$\n",
    "\n",
    "Si $x$ est un message et $y$ une clé de chiffrage, alors $x\\wedge y$ est le message chiffré. \n",
    "Mais en refaisant un XOR du message chiffré avec la clé $y$, on retrouve donc le message $x$ initial."
   ]
  },
  {
   "cell_type": "markdown",
   "metadata": {},
   "source": [
    "##  Fonction Non Et (NAND)\n",
    "\n",
    "`x ↑ y = ~(x & y)`\n",
    "\n",
    "\n",
    "|`x`| `y` | `x ↑ y`|\n",
    "|:--:|:----:|:--:|\n",
    "|F|F| V|\n",
    "|F|V|V|\n",
    "|V|F|V|\n",
    "|V|V|F|\n",
    "\n",
    "\n",
    "\n",
    "![](data/porte_nand.png)"
   ]
  },
  {
   "cell_type": "markdown",
   "metadata": {},
   "source": [
    "## Non Ou (NOR)\n",
    "\n",
    "\n",
    "`x ↓ y = ~(x & y)`\n",
    "\n",
    "\n",
    "|`x`| `y` | `x ↓ y`|\n",
    "|:--:|:----:|:--:|\n",
    "|F|F| V|\n",
    "|F|V|F|\n",
    "|V|F|F|\n",
    "|V|V|F|\n",
    "\n",
    "\n",
    "\n",
    "![](data/porte_nor.png)"
   ]
  },
  {
   "cell_type": "markdown",
   "metadata": {},
   "source": [
    "Il est temps de se reposer un peu et d'admirer cette vidéo :\n",
    "![](data/watergates.gif)"
   ]
  },
  {
   "cell_type": "markdown",
   "metadata": {},
   "source": [
    "## Remarque :\n",
    "Les fonctions NAND ET NOR sont dites **universelles** : chacune d'entre elles peut générer l'intégralité des autres portes logiques. Il est donc possible de coder toutes les opérations uniquement avec des NAND (ou uniquement avec des NOR).\n",
    "Voir [Wikipedia](https://fr.wikipedia.org/wiki/Fonction_NON-ET)"
   ]
  },
  {
   "cell_type": "markdown",
   "metadata": {},
   "source": [
    "## Exercice 4\n",
    "Calculer les opérations suivantes."
   ]
  },
  {
   "cell_type": "code",
   "execution_count": null,
   "metadata": {},
   "outputs": [],
   "source": [
    "   1011011\n",
    "&  1010101\n",
    "----------\n",
    "   \n",
    "\n",
    "   1011011\n",
    "|  1010101\n",
    "----------\n",
    "   \n",
    "\n",
    "   1011011\n",
    "^  1010101\n",
    "----------\n",
    "   "
   ]
  },
  {
   "cell_type": "markdown",
   "metadata": {
    "solution2": "hidden",
    "solution2_first": true
   },
   "source": [
    "*solution*"
   ]
  },
  {
   "cell_type": "code",
   "execution_count": null,
   "metadata": {
    "solution2": "hidden"
   },
   "outputs": [],
   "source": [
    "   1011011\n",
    "&  1010101\n",
    "----------\n",
    "   1010001\n",
    "   \n",
    "   1011011\n",
    "|  1010101\n",
    "----------\n",
    "   1011111\n",
    "   \n",
    "   1011011\n",
    "^  1010101\n",
    "----------\n",
    "   0001110"
   ]
  },
  {
   "cell_type": "markdown",
   "metadata": {},
   "source": [
    "### Calculs en Python\n",
    "les opérateurs `&`, `|` et `^` sont utilisables directement en Python"
   ]
  },
  {
   "cell_type": "code",
   "execution_count": 5,
   "metadata": {},
   "outputs": [
    {
     "data": {
      "text/plain": [
       "4"
      ]
     },
     "execution_count": 5,
     "metadata": {},
     "output_type": "execute_result"
    }
   ],
   "source": [
    "# calcul A\n",
    "12 & 7"
   ]
  },
  {
   "cell_type": "code",
   "execution_count": 6,
   "metadata": {},
   "outputs": [
    {
     "data": {
      "text/plain": [
       "15"
      ]
     },
     "execution_count": 6,
     "metadata": {},
     "output_type": "execute_result"
    }
   ],
   "source": [
    "# calcul B\n",
    "12 | 7"
   ]
  },
  {
   "cell_type": "code",
   "execution_count": 7,
   "metadata": {},
   "outputs": [
    {
     "data": {
      "text/plain": [
       "9"
      ]
     },
     "execution_count": 7,
     "metadata": {},
     "output_type": "execute_result"
    }
   ],
   "source": [
    "# calcul C\n",
    "12 ^ 5"
   ]
  },
  {
   "cell_type": "markdown",
   "metadata": {},
   "source": [
    "Pour comprendre ces résultats, il faut travailler en binaire. Voici les mêmes calculs :"
   ]
  },
  {
   "cell_type": "code",
   "execution_count": 9,
   "metadata": {},
   "outputs": [
    {
     "data": {
      "text/plain": [
       "'0b100'"
      ]
     },
     "execution_count": 9,
     "metadata": {},
     "output_type": "execute_result"
    }
   ],
   "source": [
    "# calcul A\n",
    "bin(0b1100 & 0b111)"
   ]
  },
  {
   "cell_type": "code",
   "execution_count": 10,
   "metadata": {},
   "outputs": [
    {
     "data": {
      "text/plain": [
       "'0b1111'"
      ]
     },
     "execution_count": 10,
     "metadata": {},
     "output_type": "execute_result"
    }
   ],
   "source": [
    "# calcul B\n",
    "bin(0b1100 | 0b111)"
   ]
  },
  {
   "cell_type": "code",
   "execution_count": 11,
   "metadata": {},
   "outputs": [
    {
     "data": {
      "text/plain": [
       "'0b1011'"
      ]
     },
     "execution_count": 11,
     "metadata": {},
     "output_type": "execute_result"
    }
   ],
   "source": [
    "# calcul C\n",
    "bin(0b1100 ^ 0b111)"
   ]
  },
  {
   "cell_type": "markdown",
   "metadata": {},
   "source": [
    "### Exercice 5 : préparation du pydéfi\n",
    "Objectif : chiffrer (= crypter) le mot \"BONJOUR\" avec la clé (de même taille) \"MAURIAC\".  \n",
    "\n",
    "Protocole de chiffrage : XOR entre le code ASCII des lettres de même position.\n"
   ]
  },
  {
   "cell_type": "code",
   "execution_count": 1,
   "metadata": {},
   "outputs": [
    {
     "data": {
      "text/plain": [
       "'\\x0f\\x0e\\x1b\\x18\\x06\\x14\\x11'"
      ]
     },
     "execution_count": 1,
     "metadata": {},
     "output_type": "execute_result"
    }
   ],
   "source": [
    "msg = \"BONJOUR\"\n",
    "cle = \"MAURIAC\"\n",
    "\n",
    "def crypte_lettre(lm, lc):\n",
    "    a = ord(lm)\n",
    "    b = ord(lc)\n",
    "    c = a^b\n",
    "    lettre = chr(c)\n",
    "\n",
    "    return lettre\n",
    "\n",
    "def crypte_mot(mot1, mot2):\n",
    "    mot3 = \"\"\n",
    "    for i in range(len(mot1)):\n",
    "        car = crypte_lettre(mot1[i],mot2[i])\n",
    "        mot3 = mot3 + car\n",
    "    return mot3\n",
    "\n",
    "crypte_mot(msg, cle)"
   ]
  },
  {
   "cell_type": "markdown",
   "metadata": {
    "solution2": "hidden",
    "solution2_first": true
   },
   "source": [
    "### Exercice 6 :\n",
    "Résolvez le pydéfi [la clé endommagée](https://callicode.fr/pydefis/MasqueJetable/txt)"
   ]
  },
  {
   "cell_type": "markdown",
   "metadata": {
    "solution2": "hidden"
   },
   "source": [
    "*solution :*"
   ]
  },
  {
   "cell_type": "markdown",
   "metadata": {
    "solution2": "hidden"
   },
   "source": [
    "[lien](https://gist.github.com/glassus/7aef2c4cbed5097e1857ecc851b7b740)"
   ]
  },
  {
   "cell_type": "code",
   "execution_count": null,
   "metadata": {},
   "outputs": [],
   "source": []
  },
  {
   "cell_type": "markdown",
   "metadata": {},
   "source": [
    "# Complément : propriétés des opérateurs logiques\n",
    "\n",
    "Les propriétés suivantes sont facilement démontrables à l'aide de tables de vérités: *(source : G.Connan)*\n",
    "\n",
    "![](data/lois.png)"
   ]
  },
  {
   "cell_type": "markdown",
   "metadata": {},
   "source": [
    "Toutes ces lois sont aisément compréhensibles si on les transpose en mathématiques : \n",
    "- & équivaut à $\\times$\n",
    "- $|$ équivaut à $+$\n",
    "- $\\neg$ équivaut à $-$"
   ]
  }
 ],
 "metadata": {
  "kernelspec": {
   "display_name": "Python 3",
   "language": "python",
   "name": "python3"
  },
  "language_info": {
   "codemirror_mode": {
    "name": "ipython",
    "version": 3
   },
   "file_extension": ".py",
   "mimetype": "text/x-python",
   "name": "python",
   "nbconvert_exporter": "python",
   "pygments_lexer": "ipython3",
   "version": "3.6.9"
  },
  "toc": {
   "base_numbering": 1,
   "nav_menu": {},
   "number_sections": false,
   "sideBar": true,
   "skip_h1_title": false,
   "title_cell": "Table of Contents",
   "title_sidebar": "Contents",
   "toc_cell": false,
   "toc_position": {},
   "toc_section_display": true,
   "toc_window_display": false
  }
 },
 "nbformat": 4,
 "nbformat_minor": 2
}
