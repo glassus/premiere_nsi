{
 "cells": [
  {
   "cell_type": "markdown",
   "metadata": {},
   "source": [
    "# Trier des données\n"
   ]
  },
  {
   "cell_type": "markdown",
   "metadata": {},
   "source": [
    "Nous reprenons notre fichier de joueurs de rugby du Top14. \n"
   ]
  },
  {
   "cell_type": "code",
   "execution_count": 2,
   "metadata": {},
   "outputs": [],
   "source": [
    "import csv\n",
    "f = open('data/top14.csv', \"r\", encoding = 'utf-8')\n",
    "donnees = csv.DictReader(f)\n",
    "joueurs = []\n",
    "for ligne in donnees:\n",
    "    joueurs.append(dict(ligne))\n",
    "    \n",
    "f.close()"
   ]
  },
  {
   "cell_type": "markdown",
   "metadata": {},
   "source": [
    "### Créer une fonction filtre\n",
    "L'objectif est de créer une fonction `joueursEquipe(equipe)` qui renvoie une liste contentant tous les joueurs de l'équipe `equipe`. \n",
    "Le paramètre `equipe` sera donnée sous forme de chaîne de caractères. \n",
    "La valeur renvoyée sera de type liste."
   ]
  },
  {
   "cell_type": "code",
   "execution_count": 3,
   "metadata": {},
   "outputs": [],
   "source": [
    "def joueursEquipe(equipe):\n",
    "    ret = []\n",
    "    \n",
    "    for k in joueurs :\n",
    "        if k['Equipe'] == equipe :\n",
    "            ret.append(k)\n",
    "    \n",
    "    return ret\n"
   ]
  },
  {
   "cell_type": "markdown",
   "metadata": {},
   "source": [
    "Exemple d'utilisation :"
   ]
  },
  {
   "cell_type": "code",
   "execution_count": 4,
   "metadata": {},
   "outputs": [
    {
     "data": {
      "text/plain": [
       "37"
      ]
     },
     "execution_count": 4,
     "metadata": {},
     "output_type": "execute_result"
    }
   ],
   "source": [
    "len(joueursEquipe(\"Bordeaux\"))"
   ]
  },
  {
   "cell_type": "markdown",
   "metadata": {},
   "source": [
    "Définir de la même manière une fonction `joueursPoste(poste)`."
   ]
  },
  {
   "cell_type": "code",
   "execution_count": null,
   "metadata": {},
   "outputs": [],
   "source": []
  },
  {
   "cell_type": "markdown",
   "metadata": {},
   "source": [
    "## Utilisation d'une fonction de tri"
   ]
  },
  {
   "cell_type": "markdown",
   "metadata": {},
   "source": [
    "Comment classer les joueurs suivant leur taille ?\n",
    "La fonction `sorted(liste)` est efficace sur les listes : elle renvoie une nouvelle liste triée dans l'ordre croissant."
   ]
  },
  {
   "cell_type": "code",
   "execution_count": 13,
   "metadata": {},
   "outputs": [
    {
     "name": "stdout",
     "output_type": "stream",
     "text": [
      "[2, 4, 6, 8]\n"
     ]
    }
   ],
   "source": [
    "mylist = [4,2,8,6]\n",
    "mynewlist = sorted(mylist)\n",
    "print(mynewlist)"
   ]
  },
  {
   "cell_type": "markdown",
   "metadata": {},
   "source": [
    "Mais comment trier un dictionnaire ? "
   ]
  },
  {
   "cell_type": "code",
   "execution_count": 14,
   "metadata": {},
   "outputs": [
    {
     "ename": "TypeError",
     "evalue": "'<' not supported between instances of 'dict' and 'dict'",
     "output_type": "error",
     "traceback": [
      "\u001b[0;31m---------------------------------------------------------------------------\u001b[0m",
      "\u001b[0;31mTypeError\u001b[0m                                 Traceback (most recent call last)",
      "\u001b[0;32m<ipython-input-14-de081d14a3da>\u001b[0m in \u001b[0;36m<module>\u001b[0;34m\u001b[0m\n\u001b[0;32m----> 1\u001b[0;31m \u001b[0mtest\u001b[0m \u001b[0;34m=\u001b[0m \u001b[0msorted\u001b[0m\u001b[0;34m(\u001b[0m\u001b[0mjoueurs\u001b[0m\u001b[0;34m)\u001b[0m\u001b[0;34m\u001b[0m\u001b[0;34m\u001b[0m\u001b[0m\n\u001b[0m",
      "\u001b[0;31mTypeError\u001b[0m: '<' not supported between instances of 'dict' and 'dict'"
     ]
    }
   ],
   "source": [
    "test = sorted(joueurs)"
   ]
  },
  {
   "cell_type": "markdown",
   "metadata": {},
   "source": [
    "Il est normal que cette tentative échoue : un dictionnaire possède plusieurs clés différentes.\n",
    "Ici, plusieurs clés peuvent être des critères de tri : la taille, le poids."
   ]
  },
  {
   "cell_type": "markdown",
   "metadata": {},
   "source": [
    "### un exemple de tri de dictionnaire"
   ]
  },
  {
   "cell_type": "code",
   "execution_count": 22,
   "metadata": {},
   "outputs": [],
   "source": [
    "Simpsons = [{\"Prenom\" : \"Bart\", \"age estimé\": \"10\"},\n",
    "           {\"Prenom\" : \"Lisa\", \"age estimé\": \"8\"},\n",
    "           {\"Prenom\" : \"Maggie\", \"age estimé\": \"1\"},\n",
    "           {\"Prenom\" : \"Homer\", \"age estimé\": \"38\"},\n",
    "           {\"Prenom\" : \"Marge\", \"age estimé\": \"37\"}]"
   ]
  },
  {
   "cell_type": "code",
   "execution_count": 23,
   "metadata": {},
   "outputs": [],
   "source": [
    "def age(personnage):\n",
    "    return int(personnage[\"age estimé\"])"
   ]
  },
  {
   "cell_type": "code",
   "execution_count": 24,
   "metadata": {},
   "outputs": [
    {
     "data": {
      "text/plain": [
       "10"
      ]
     },
     "execution_count": 24,
     "metadata": {},
     "output_type": "execute_result"
    }
   ],
   "source": [
    "age(Simpsons[0])"
   ]
  },
  {
   "cell_type": "markdown",
   "metadata": {},
   "source": [
    "La création de cette fonction `age()` va nous permettre de spécifier une clé de tri, par le paramètre `key` :"
   ]
  },
  {
   "cell_type": "code",
   "execution_count": 25,
   "metadata": {},
   "outputs": [],
   "source": [
    "triSimpsons = sorted(Simpsons, key = age)"
   ]
  },
  {
   "cell_type": "code",
   "execution_count": 26,
   "metadata": {},
   "outputs": [
    {
     "data": {
      "text/plain": [
       "[{'Prenom': 'Maggie', 'age estimé': '1'},\n",
       " {'Prenom': 'Lisa', 'age estimé': '8'},\n",
       " {'Prenom': 'Bart', 'age estimé': '10'},\n",
       " {'Prenom': 'Marge', 'age estimé': '37'},\n",
       " {'Prenom': 'Homer', 'age estimé': '38'}]"
      ]
     },
     "execution_count": 26,
     "metadata": {},
     "output_type": "execute_result"
    }
   ],
   "source": [
    "triSimpsons"
   ]
  },
  {
   "cell_type": "code",
   "execution_count": 28,
   "metadata": {},
   "outputs": [],
   "source": [
    "triSimpsons = sorted(Simpsons, key = age, reverse = True)"
   ]
  },
  {
   "cell_type": "code",
   "execution_count": 29,
   "metadata": {},
   "outputs": [
    {
     "data": {
      "text/plain": [
       "[{'Prenom': 'Homer', 'age estimé': '38'},\n",
       " {'Prenom': 'Marge', 'age estimé': '37'},\n",
       " {'Prenom': 'Bart', 'age estimé': '10'},\n",
       " {'Prenom': 'Lisa', 'age estimé': '8'},\n",
       " {'Prenom': 'Maggie', 'age estimé': '1'}]"
      ]
     },
     "execution_count": 29,
     "metadata": {},
     "output_type": "execute_result"
    }
   ],
   "source": [
    "triSimpsons"
   ]
  },
  {
   "cell_type": "markdown",
   "metadata": {},
   "source": [
    "## Exercice \n",
    "1. Trier les joueurs du top14 par taille.\n",
    "2. Trier les joueurs de Bordeaux par taille.\n",
    "3. Trier les joueurs de Bordeaux suivant leur Indice de Masse Corporelle ([IMC](https://fr.wikipedia.org/wiki/Indice_de_masse_corporelle) )"
   ]
  },
  {
   "cell_type": "code",
   "execution_count": 4,
   "metadata": {},
   "outputs": [],
   "source": [
    "def taillePlayer(player) :\n",
    "    return int(player['Taille'])"
   ]
  },
  {
   "cell_type": "code",
   "execution_count": null,
   "metadata": {},
   "outputs": [],
   "source": [
    "joueurs_taille_croissant = sorted(joueurs, key = taillePlayer)\n",
    "print(joueurs_taille_croissant)"
   ]
  },
  {
   "cell_type": "code",
   "execution_count": 2,
   "metadata": {},
   "outputs": [],
   "source": [
    "def IMC(player):\n",
    "    masse = int(player['Poids'])\n",
    "    taille_m = int(player['Taille']) / 100\n",
    "    return masse / taille_m**2\n",
    "    "
   ]
  },
  {
   "cell_type": "code",
   "execution_count": 3,
   "metadata": {},
   "outputs": [
    {
     "data": {
      "text/plain": [
       "36.42987249544626"
      ]
     },
     "execution_count": 3,
     "metadata": {},
     "output_type": "execute_result"
    }
   ],
   "source": [
    "IMC(joueurs[0])"
   ]
  },
  {
   "cell_type": "code",
   "execution_count": 4,
   "metadata": {},
   "outputs": [],
   "source": [
    "joueursUBB = [k for k in joueurs if k['Equipe'] == 'Bordeaux']"
   ]
  },
  {
   "cell_type": "code",
   "execution_count": 6,
   "metadata": {},
   "outputs": [],
   "source": [
    "joueursUBB_tri = sorted(joueursUBB, key = IMC)"
   ]
  },
  {
   "cell_type": "code",
   "execution_count": 8,
   "metadata": {},
   "outputs": [
    {
     "name": "stdout",
     "output_type": "stream",
     "text": [
      "Yann LESGOURGUES 23.450918219051392\n",
      "Nicolas PLAZY 24.049343594386603\n",
      "Matthieu JALIBERT 24.382716049382715\n",
      "Blair CONNOR 24.48565200513601\n",
      "Geoffrey CROS 24.835646457268076\n",
      "Maxime LUCU 25.2162533116282\n",
      "Jean-Baptiste DUBIÉ 25.94548395958609\n",
      "Romain BUROS 26.023048986244955\n",
      "Santiago CORDERO 26.493025631204315\n",
      "Alexandre ROUMAT 26.527905315784103\n",
      "Cameron WOKI 26.81174510620575\n",
      "Lucas MÉRET 26.82742078020452\n",
      "Nans DUCUING 27.471688898385274\n",
      "Ulupano SEUTENI 27.757487216946675\n",
      "Clément MAYNADIER 28.59675712774171\n",
      "Cyril CAZEAUX 28.823589429650035\n",
      "Alexandre FLANQUART 28.835063437139564\n",
      "Semi RADRADRA 28.85921231326392\n",
      "Scott HIGGINBOTHAM 28.928336620644316\n",
      "Ben BOTICA 29.352354500694357\n",
      "Béka GORGADZE 29.394473838918284\n",
      "Mahamadou DIABY 29.708012675418743\n",
      "Masalosalo TUTAIA 30.036524413687044\n",
      "Jandré MARAIS 30.09896949290889\n",
      "Kane DOUGLAS 30.144103519262817\n",
      "Seta TAMANIVALU 30.794210688390585\n",
      "Rémi LAMERAT 31.01370510396975\n",
      "Marco TAULEIGNE 31.523258682601902\n",
      "Afa AMOSA 32.028367983070716\n",
      "Laurent DELBOULBÈS 32.35554470254266\n",
      "Adrien PÉLISSIÉ 33.576508653582\n",
      "Lasha TABIDZE 34.18553688823959\n",
      "Lekso KAULASHVILI 34.31610855329005\n",
      "Peni RAVAI 34.76990504017531\n",
      "Jefferson POIROT 35.713195567900854\n",
      "Vadim COBILAS 36.41975308641975\n",
      "Thierry PAÏVA 36.92107750472589\n"
     ]
    }
   ],
   "source": [
    "for k in joueursUBB_tri:\n",
    "    print(k['Nom'], IMC(k))"
   ]
  },
  {
   "cell_type": "markdown",
   "metadata": {},
   "source": [
    "## Recherche des joueurs de profil  physique similaire"
   ]
  },
  {
   "cell_type": "markdown",
   "metadata": {},
   "source": [
    "### Distance entre deux joueurs\n",
    "Construire une fonction `distance(joueur1,joueur2)` qui renvoie la somme des carrés des différences de tailles et de poids entre les joueurs `joueur1` et `joueur2` : \n",
    "$$ d = (p_1-p_2)^2 + (t_1-t_2)^2$$"
   ]
  },
  {
   "cell_type": "code",
   "execution_count": 9,
   "metadata": {},
   "outputs": [],
   "source": [
    "def distance(joueur1,joueur2):\n",
    "    p1 = int(joueur1['Poids'])\n",
    "    p2 = int(joueur2['Poids'])\n",
    "    t1 = int(joueur1['Taille'])\n",
    "    t2 = int(joueur2['Taille'])\n",
    "    return (p1-p2)**2+(t1-t2)**2"
   ]
  },
  {
   "cell_type": "markdown",
   "metadata": {},
   "source": [
    "### Distance des joueurs avec Baptiste Serin"
   ]
  },
  {
   "cell_type": "markdown",
   "metadata": {},
   "source": [
    "Retrouvons d'abord le numéro de Baptiste Serin dans notre classement de joueurs :"
   ]
  },
  {
   "cell_type": "code",
   "execution_count": 10,
   "metadata": {},
   "outputs": [
    {
     "name": "stdout",
     "output_type": "stream",
     "text": [
      "530\n"
     ]
    }
   ],
   "source": [
    "for k in range(len(joueurs)) :\n",
    "    if joueurs[k]['Nom'] == 'Baptiste SERIN' :\n",
    "        print(k)"
   ]
  },
  {
   "cell_type": "code",
   "execution_count": 10,
   "metadata": {},
   "outputs": [
    {
     "data": {
      "text/plain": [
       "{'Equipe': 'Toulon',\n",
       " 'Nom': 'Baptiste SERIN',\n",
       " 'Poste': 'Mêlée',\n",
       " 'Date de naissance': '20/06/1994',\n",
       " 'Taille': '180',\n",
       " 'Poids': '79'}"
      ]
     },
     "execution_count": 10,
     "metadata": {},
     "output_type": "execute_result"
    }
   ],
   "source": [
    "joueurs[530]"
   ]
  },
  {
   "cell_type": "markdown",
   "metadata": {},
   "source": [
    "Nous pouvons maintenant classer les joueurs suivant leur distance morphologique à Baptiste  SERIN :"
   ]
  },
  {
   "cell_type": "code",
   "execution_count": 13,
   "metadata": {},
   "outputs": [],
   "source": [
    "def distanceSerin(joueur2):\n",
    "    return distance(joueurs[530],joueur2)"
   ]
  },
  {
   "cell_type": "code",
   "execution_count": 15,
   "metadata": {},
   "outputs": [
    {
     "data": {
      "text/plain": [
       "0"
      ]
     },
     "execution_count": 15,
     "metadata": {},
     "output_type": "execute_result"
    }
   ],
   "source": [
    "distanceSerin(joueurs[530])"
   ]
  },
  {
   "cell_type": "code",
   "execution_count": 16,
   "metadata": {},
   "outputs": [],
   "source": [
    "joueurs_VS_Serin = sorted(joueurs, key = distanceSerin)"
   ]
  },
  {
   "cell_type": "code",
   "execution_count": null,
   "metadata": {},
   "outputs": [],
   "source": [
    "joueurs_VS_Serin"
   ]
  },
  {
   "cell_type": "code",
   "execution_count": null,
   "metadata": {},
   "outputs": [],
   "source": []
  }
 ],
 "metadata": {
  "kernelspec": {
   "display_name": "Python 3",
   "language": "python",
   "name": "python3"
  },
  "language_info": {
   "codemirror_mode": {
    "name": "ipython",
    "version": 3
   },
   "file_extension": ".py",
   "mimetype": "text/x-python",
   "name": "python",
   "nbconvert_exporter": "python",
   "pygments_lexer": "ipython3",
   "version": "3.6.9"
  },
  "toc": {
   "base_numbering": 1,
   "nav_menu": {},
   "number_sections": false,
   "sideBar": true,
   "skip_h1_title": false,
   "title_cell": "Table of Contents",
   "title_sidebar": "Contents",
   "toc_cell": false,
   "toc_position": {},
   "toc_section_display": true,
   "toc_window_display": true
  }
 },
 "nbformat": 4,
 "nbformat_minor": 2
}
