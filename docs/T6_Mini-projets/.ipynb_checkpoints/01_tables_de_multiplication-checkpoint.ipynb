{
 "cells": [
  {
   "cell_type": "markdown",
   "metadata": {},
   "source": [
    "## Apprendre ses tables de multiplication\n",
    "![](data/gif_tables.gif)"
   ]
  },
  {
   "cell_type": "markdown",
   "metadata": {},
   "source": [
    "### Étape 1 \n",
    "Demander **une** multiplication aléatoire, et vérifier la réponse donnée par l'utilisateur.\n",
    "\n",
    "#### Outils nécessaires\n",
    "\n"
   ]
  },
  {
   "cell_type": "markdown",
   "metadata": {},
   "source": [
    "- Fonction **randint()**\n",
    "\n",
    "\n",
    "```randint(min,max)``` permet de générer un nombre entier pseudo-aléatoire entre min et max."
   ]
  },
  {
   "cell_type": "code",
   "execution_count": 3,
   "metadata": {},
   "outputs": [
    {
     "name": "stdout",
     "output_type": "stream",
     "text": [
      "19\n"
     ]
    }
   ],
   "source": [
    "from random import randint\n",
    "a = randint(10,20)\n",
    "print(a)"
   ]
  },
  {
   "cell_type": "markdown",
   "metadata": {},
   "source": [
    "- Fonction **input()**\n",
    "\n",
    "\n",
    "```n = int(input(chaine de caractères)``` permet de récupérer dans ```n``` l'entier tapé par l'utilisateur. Attention, ```input()``` récupère une chaîne de caractères. On la convertit en entier grâce à ```int()```"
   ]
  },
  {
   "cell_type": "markdown",
   "metadata": {},
   "source": [
    "- Concaténation de chaînes de caractères / Conversion d'entier en strings\n",
    "\n",
    "L'opérateur + permet de concaténer (=recoller) des chaînes de caractères. \n",
    "\n",
    "La fonction ```str``` permet de convertir un entier en chaîne de caractères."
   ]
  },
  {
   "cell_type": "code",
   "execution_count": 5,
   "metadata": {},
   "outputs": [
    {
     "name": "stdout",
     "output_type": "stream",
     "text": [
      "j'ai 12 ans\n"
     ]
    }
   ],
   "source": [
    "a = 12\n",
    "phrase = \"j'ai \" + str(a) + \" ans\"\n",
    "print(phrase)"
   ]
  },
  {
   "cell_type": "markdown",
   "metadata": {},
   "source": [
    "### Étape 2"
   ]
  },
  {
   "cell_type": "markdown",
   "metadata": {},
   "source": [
    "Toujours en demandant **une** multiplication aléatoire, vérifier la réponse donnée par l'utilisateur et reposer la même question tant que la bonne réponse n'est pas donnée."
   ]
  },
  {
   "cell_type": "markdown",
   "metadata": {},
   "source": [
    "On pourra utiliser une boucle infinie ```while True``` dont on s'éjectera par ```break```."
   ]
  },
  {
   "cell_type": "markdown",
   "metadata": {},
   "source": [
    "### Étape 3"
   ]
  },
  {
   "cell_type": "markdown",
   "metadata": {},
   "source": [
    "- Poser successivement 5 opérations.\n",
    "- Poser successivement n opérations, où n est un nombre rentré par l'utilisateur."
   ]
  },
  {
   "cell_type": "markdown",
   "metadata": {},
   "source": [
    "### Étape 4"
   ]
  },
  {
   "cell_type": "markdown",
   "metadata": {},
   "source": [
    "Rajouter un chronométrage à l'aide de la fonction ```time.time()```, qui donne le nombre de secondes passées depuis le 01/01/1970 (on parle de temps [Unix](https://fr.wikipedia.org/wiki/Heure_Unix) ou Posix)"
   ]
  },
  {
   "cell_type": "code",
   "execution_count": 6,
   "metadata": {},
   "outputs": [
    {
     "name": "stdout",
     "output_type": "stream",
     "text": [
      "1600618479.5387409\n",
      "1600618479.5393577\n"
     ]
    }
   ],
   "source": [
    "import time\n",
    "chrono1 = time.time()\n",
    "print(chrono1)\n",
    "chrono2 = time.time()\n",
    "print(chrono2)"
   ]
  },
  {
   "cell_type": "markdown",
   "metadata": {},
   "source": [
    "Pour afficher un nombre avec (par exemple) 4 chiffres, on utilisera la méthode ```format()``` des chaînes de caractères :"
   ]
  },
  {
   "cell_type": "code",
   "execution_count": 10,
   "metadata": {},
   "outputs": [
    {
     "name": "stdout",
     "output_type": "stream",
     "text": [
      "la valeur arrondie de Pi est 3.14 mais ce n'est pas la valeur exacte\n"
     ]
    }
   ],
   "source": [
    "pi = 3.141592\n",
    "print(\"la valeur arrondie de Pi est {:.3} mais ce n'est pas la valeur exacte\".format(pi))"
   ]
  },
  {
   "cell_type": "code",
   "execution_count": null,
   "metadata": {},
   "outputs": [],
   "source": []
  }
 ],
 "metadata": {
  "kernelspec": {
   "display_name": "Python 3.6.9 64-bit",
   "language": "python",
   "name": "python36964bit9f899ef1f6144dc3be0f32d67042f5ff"
  },
  "language_info": {
   "codemirror_mode": {
    "name": "ipython",
    "version": 3
   },
   "file_extension": ".py",
   "mimetype": "text/x-python",
   "name": "python",
   "nbconvert_exporter": "python",
   "pygments_lexer": "ipython3",
   "version": "3.6.9"
  }
 },
 "nbformat": 4,
 "nbformat_minor": 4
}
