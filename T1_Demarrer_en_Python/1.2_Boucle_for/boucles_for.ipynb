{
 "cells": [
  {
   "cell_type": "markdown",
   "metadata": {},
   "source": [
    "# Boucles bornées"
   ]
  },
  {
   "cell_type": "markdown",
   "metadata": {},
   "source": [
    "## Parcours d'éléments énumérables"
   ]
  },
  {
   "cell_type": "code",
   "execution_count": 1,
   "metadata": {},
   "outputs": [
    {
     "name": "stdout",
     "output_type": "stream",
     "text": [
      "lundi\n",
      "mardi\n",
      "mercredi\n"
     ]
    }
   ],
   "source": [
    "for i in [\"lundi\",\"mardi\",\"mercredi\"]:\n",
    "    print(i)"
   ]
  },
  {
   "cell_type": "code",
   "execution_count": 3,
   "metadata": {},
   "outputs": [
    {
     "name": "stdout",
     "output_type": "stream",
     "text": [
      "b\n",
      "o\n",
      "n\n",
      "j\n",
      "o\n",
      "u\n",
      "r\n"
     ]
    }
   ],
   "source": [
    "for k in \"bonjour\":\n",
    "    print(k)"
   ]
  },
  {
   "cell_type": "markdown",
   "metadata": {},
   "source": [
    "### Exercice 1"
   ]
  },
  {
   "cell_type": "markdown",
   "metadata": {},
   "source": [
    "L'instruction `ord()` permet de trouver le code ASCII d'un caractère.  \n",
    "Exemple :"
   ]
  },
  {
   "cell_type": "code",
   "execution_count": 4,
   "metadata": {},
   "outputs": [
    {
     "data": {
      "text/plain": [
       "65"
      ]
     },
     "execution_count": 4,
     "metadata": {},
     "output_type": "execute_result"
    }
   ],
   "source": [
    "ord(\"A\")"
   ]
  },
  {
   "cell_type": "markdown",
   "metadata": {},
   "source": [
    "Inversement, l'instruction `chr()` permet de retrouver un caractère à partir du code ASCII.  \n",
    "Exemple :"
   ]
  },
  {
   "cell_type": "code",
   "execution_count": 5,
   "metadata": {},
   "outputs": [
    {
     "data": {
      "text/plain": [
       "'B'"
      ]
     },
     "execution_count": 5,
     "metadata": {},
     "output_type": "execute_result"
    }
   ],
   "source": [
    "chr(66)"
   ]
  },
  {
   "cell_type": "markdown",
   "metadata": {},
   "source": [
    "Décoder la phrase mystère ci-dessous, en utilisant une boucle `for`."
   ]
  },
  {
   "cell_type": "code",
   "execution_count": 3,
   "metadata": {},
   "outputs": [],
   "source": [
    "mystere = [111,107,44,32,98,105,101,110,32,106,111,117,233]"
   ]
  },
  {
   "cell_type": "markdown",
   "metadata": {},
   "source": [
    "Deux solutions :"
   ]
  },
  {
   "cell_type": "code",
   "execution_count": 4,
   "metadata": {},
   "outputs": [
    {
     "name": "stdout",
     "output_type": "stream",
     "text": [
      "o\n",
      "k\n",
      ",\n",
      " \n",
      "b\n",
      "i\n",
      "e\n",
      "n\n",
      " \n",
      "j\n",
      "o\n",
      "u\n",
      "é\n"
     ]
    }
   ],
   "source": [
    "mystere = [111,107,44,32,98,105,101,110,32,106,111,117,233]\n",
    "for k in mystere:\n",
    "    print(chr(k))"
   ]
  },
  {
   "cell_type": "markdown",
   "metadata": {},
   "source": [
    "Ou de manière plus élégante,"
   ]
  },
  {
   "cell_type": "code",
   "execution_count": 12,
   "metadata": {},
   "outputs": [
    {
     "name": "stdout",
     "output_type": "stream",
     "text": [
      "ok, bien joué\n"
     ]
    }
   ],
   "source": [
    "mystere = [111,107,44,32,98,105,101,110,32,106,111,117,233]\n",
    "s = \"\"\n",
    "for k in mystere:\n",
    "    s = s + chr(k)\n",
    "print(s)\n",
    "\n",
    "\n",
    "\n",
    "\n"
   ]
  },
  {
   "cell_type": "markdown",
   "metadata": {},
   "source": [
    "## Génération de séquences numériques"
   ]
  },
  {
   "cell_type": "code",
   "execution_count": 16,
   "metadata": {},
   "outputs": [
    {
     "name": "stdout",
     "output_type": "stream",
     "text": [
      "5\n",
      "8\n",
      "11\n",
      "14\n",
      "17\n"
     ]
    }
   ],
   "source": [
    "for k in range(5,20,3):\n",
    "    print(k)"
   ]
  },
  {
   "cell_type": "markdown",
   "metadata": {},
   "source": [
    "La fonction `range()` reçoit donc 3 arguments : `range(start,end,step)`\n",
    "- la valeur `start` est la valeur de départ. Elle est optionnelle (valeur par défaut : 0).\n",
    "- la valeur `end` n'est JAMAIS prise.\n",
    "- la valeur `step` est le pas de progression. Elle est optionnelle (valeur par défaut : 1)."
   ]
  },
  {
   "cell_type": "code",
   "execution_count": 17,
   "metadata": {
    "hide_input": false
   },
   "outputs": [
    {
     "name": "stdout",
     "output_type": "stream",
     "text": [
      "1\n",
      "2\n",
      "3\n",
      "4\n",
      "5\n",
      "6\n",
      "7\n",
      "8\n",
      "9\n",
      "10\n",
      "11\n"
     ]
    }
   ],
   "source": [
    "for k in range(1,12):\n",
    "    print(k)"
   ]
  },
  {
   "cell_type": "code",
   "execution_count": 19,
   "metadata": {},
   "outputs": [
    {
     "name": "stdout",
     "output_type": "stream",
     "text": [
      "0\n",
      "1\n",
      "2\n",
      "3\n",
      "4\n"
     ]
    }
   ],
   "source": [
    "for k in range(5):\n",
    "    print(k)"
   ]
  },
  {
   "cell_type": "markdown",
   "metadata": {},
   "source": [
    "### Exercice 2"
   ]
  },
  {
   "cell_type": "markdown",
   "metadata": {},
   "source": [
    "Créer les suites de nombres suivantes :\n",
    "- 3,5,7,9,11,13\n",
    "- -15,-10,-5,0,5\n",
    "- 10,7,4,1"
   ]
  },
  {
   "cell_type": "code",
   "execution_count": 27,
   "metadata": {},
   "outputs": [
    {
     "name": "stdout",
     "output_type": "stream",
     "text": [
      "3\n",
      "5\n",
      "7\n",
      "9\n",
      "11\n",
      "13\n",
      "_______________\n",
      "-15\n",
      "-10\n",
      "-5\n",
      "0\n",
      "5\n",
      "_______________\n",
      "10\n",
      "7\n",
      "4\n",
      "1\n"
     ]
    }
   ],
   "source": [
    "for k in range(3,14,2):\n",
    "    print(k)\n",
    "\n",
    "print('_______________')\n",
    "    \n",
    "for k in range(-15,6,5):\n",
    "    print(k)\n",
    "    \n",
    "print('_______________')\n",
    "    \n",
    "for k in range(10,0,-3):\n",
    "    print(k)"
   ]
  },
  {
   "cell_type": "markdown",
   "metadata": {},
   "source": [
    "## Boucles bornées"
   ]
  },
  {
   "cell_type": "markdown",
   "metadata": {},
   "source": [
    "Dans les exemples précédents, les valeurs parcourues ont été séquentiellement affichées. Ce n'est pas obligatoire. "
   ]
  },
  {
   "cell_type": "code",
   "execution_count": 29,
   "metadata": {},
   "outputs": [
    {
     "name": "stdout",
     "output_type": "stream",
     "text": [
      "bonjour\n",
      "bonjour\n",
      "bonjour\n"
     ]
    }
   ],
   "source": [
    "for k in range(3):\n",
    "    print(\"bonjour\")"
   ]
  },
  {
   "cell_type": "markdown",
   "metadata": {},
   "source": [
    "On dit que la variable `k` est une variable muette. Elle a servi de compteur, sans être affichée."
   ]
  },
  {
   "cell_type": "markdown",
   "metadata": {},
   "source": [
    "## Boucles bornées imbriquées"
   ]
  },
  {
   "cell_type": "code",
   "execution_count": 30,
   "metadata": {},
   "outputs": [
    {
     "name": "stdout",
     "output_type": "stream",
     "text": [
      "0  fois  0  égale  0\n",
      "0  fois  1  égale  0\n",
      "0  fois  2  égale  0\n",
      "0  fois  3  égale  0\n",
      "0  fois  4  égale  0\n",
      "1  fois  0  égale  0\n",
      "1  fois  1  égale  1\n",
      "1  fois  2  égale  2\n",
      "1  fois  3  égale  3\n",
      "1  fois  4  égale  4\n",
      "2  fois  0  égale  0\n",
      "2  fois  1  égale  2\n",
      "2  fois  2  égale  4\n",
      "2  fois  3  égale  6\n",
      "2  fois  4  égale  8\n"
     ]
    }
   ],
   "source": [
    "for a in range(3):\n",
    "    for b in range(5):\n",
    "        print(a, \" fois \", b, \" égale \", a*b)"
   ]
  },
  {
   "cell_type": "markdown",
   "metadata": {},
   "source": [
    "### Exercice 3"
   ]
  },
  {
   "cell_type": "markdown",
   "metadata": {},
   "source": [
    "On appelle triplets pythagoricien 3 nombres entiers $a$, $b$ et $c$ tels que $a^2+b^2=c^2$.  \n",
    "Le triplet le plus connu est (3,4,5) car $3^2+4^2=5^2$.\n",
    "1. Rechercher tous les triplets pythagoriciens pour les nombres inférieurs à 100.\n",
    "2. Modifier votre programme pour éliminer les doublons."
   ]
  },
  {
   "cell_type": "code",
   "execution_count": null,
   "metadata": {},
   "outputs": [],
   "source": []
  }
 ],
 "metadata": {
  "kernelspec": {
   "display_name": "Python 3",
   "language": "python",
   "name": "python3"
  },
  "language_info": {
   "codemirror_mode": {
    "name": "ipython",
    "version": 3
   },
   "file_extension": ".py",
   "mimetype": "text/x-python",
   "name": "python",
   "nbconvert_exporter": "python",
   "pygments_lexer": "ipython3",
   "version": "3.6.9"
  },
  "toc": {
   "base_numbering": 1,
   "nav_menu": {},
   "number_sections": true,
   "sideBar": true,
   "skip_h1_title": false,
   "title_cell": "Table of Contents",
   "title_sidebar": "Contents",
   "toc_cell": false,
   "toc_position": {},
   "toc_section_display": true,
   "toc_window_display": false
  }
 },
 "nbformat": 4,
 "nbformat_minor": 2
}
