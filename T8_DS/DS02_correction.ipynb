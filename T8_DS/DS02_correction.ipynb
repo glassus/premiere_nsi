{
 "cells": [
  {
   "cell_type": "markdown",
   "source": [
    "DS02 \n"
   ],
   "metadata": {}
  },
  {
   "cell_type": "markdown",
   "source": [
    "<strong> Exercice 1 </strong>  \n",
    "\n",
    "Proposer un code qui écrit la table de multiplication de 4, 5 et 6.\n"
   ],
   "metadata": {
    "deletable": false,
    "editable": false
   }
  },
  {
   "cell_type": "code",
   "execution_count": 1,
   "source": [
    "for a in range(4,7):\n",
    "    for b in range(1,10):\n",
    "        p = a * b\n",
    "        print(a, '*', b, '=', p)"
   ],
   "outputs": [
    {
     "output_type": "stream",
     "name": "stdout",
     "text": [
      "4 * 1 = 4\n",
      "4 * 2 = 8\n",
      "4 * 3 = 12\n",
      "4 * 4 = 16\n",
      "4 * 5 = 20\n",
      "4 * 6 = 24\n",
      "4 * 7 = 28\n",
      "4 * 8 = 32\n",
      "4 * 9 = 36\n",
      "5 * 1 = 5\n",
      "5 * 2 = 10\n",
      "5 * 3 = 15\n",
      "5 * 4 = 20\n",
      "5 * 5 = 25\n",
      "5 * 6 = 30\n",
      "5 * 7 = 35\n",
      "5 * 8 = 40\n",
      "5 * 9 = 45\n",
      "6 * 1 = 6\n",
      "6 * 2 = 12\n",
      "6 * 3 = 18\n",
      "6 * 4 = 24\n",
      "6 * 5 = 30\n",
      "6 * 6 = 36\n",
      "6 * 7 = 42\n",
      "6 * 8 = 48\n",
      "6 * 9 = 54\n"
     ]
    }
   ],
   "metadata": {}
  },
  {
   "cell_type": "markdown",
   "source": [
    "________"
   ],
   "metadata": {}
  },
  {
   "cell_type": "markdown",
   "source": [
    "<strong> Exercice 2 </strong> \n",
    "\n",
    "On considère le code ci-dessous :\n",
    "\n",
    "```\n",
    "for k in range(1,10,2):\n",
    "    print(k)\n",
    "```\n",
    "\n",
    "Proposer un code identique à celui-ci, mais utilisant une boucle ```while``` plutôt qu'une boucle ```for```.\n"
   ],
   "metadata": {
    "deletable": false,
    "editable": false
   }
  },
  {
   "cell_type": "code",
   "execution_count": 2,
   "source": [
    "k = 1\n",
    "while k < 10:\n",
    "    print(k)\n",
    "    k = k +2"
   ],
   "outputs": [
    {
     "output_type": "stream",
     "name": "stdout",
     "text": [
      "1\n",
      "3\n",
      "5\n",
      "7\n",
      "9\n"
     ]
    }
   ],
   "metadata": {}
  },
  {
   "cell_type": "markdown",
   "source": [
    "________"
   ],
   "metadata": {}
  },
  {
   "cell_type": "markdown",
   "source": [
    "\n",
    "<strong> Exercice 3 </strong> \n",
    "\n",
    "Proposer un code comportant une boucle ```while``` où les instructions à l'intérieur de la boucle ne sont **jamais** exécutées."
   ],
   "metadata": {
    "deletable": false,
    "editable": false
   }
  },
  {
   "cell_type": "code",
   "execution_count": null,
   "source": [
    "a = 0\n",
    "while a > 12:\n",
    "    print(\"inutile\")"
   ],
   "outputs": [],
   "metadata": {}
  },
  {
   "cell_type": "markdown",
   "source": [
    "________"
   ],
   "metadata": {}
  },
  {
   "cell_type": "markdown",
   "source": [
    "\n",
    "<strong> Exercice 4 </strong>\n",
    "\n",
    "Proposer un code comportant une boucle ```while``` où l'utilisateur rentre dans **une boucle infinie**. Attention, n'exécutez pas votre code ! (ou alors dans un Thonny...). L'utilisation de ```while True``` est interdite. "
   ],
   "metadata": {
    "deletable": false,
    "editable": false
   }
  },
  {
   "cell_type": "code",
   "execution_count": null,
   "source": [
    "a = 10\n",
    "while a > 2:\n",
    "    print(\"au secours\")"
   ],
   "outputs": [],
   "metadata": {}
  },
  {
   "cell_type": "markdown",
   "source": [
    "________"
   ],
   "metadata": {}
  },
  {
   "cell_type": "markdown",
   "source": [
    "\n",
    "<strong> Exercice 5 </strong>  \n",
    "\n",
    "Proposer un code où :\n",
    "\n",
    "- l'utilisateur doit rentrer un mot au clavier.\n",
    "- le programme affiche alors le nombre de voyelles et le nombre de consonnes de ce mot."
   ],
   "metadata": {
    "deletable": false,
    "editable": false
   }
  },
  {
   "cell_type": "code",
   "execution_count": 5,
   "source": [
    "voyelles  = \"aeiouy\"\n",
    "nb_voyelles = 0\n",
    "nb_consonnes = 0\n",
    "\n",
    "mot = input(\"entrer un mot : \")\n",
    "for lettre in mot:\n",
    "    if lettre in voyelles:\n",
    "        nb_voyelles += 1\n",
    "    else:\n",
    "        nb_consonnes += 1\n",
    "\n",
    "print(\"le mot '\", mot, \"' comporte\", nb_voyelles, \"voyelles et\", nb_consonnes, \"consonnes.\")"
   ],
   "outputs": [
    {
     "output_type": "stream",
     "name": "stdout",
     "text": [
      "entrer un mot : mercredi\n",
      "le mot ' mercredi ' comporte 3 voyelles et 5 consonnes.\n"
     ]
    }
   ],
   "metadata": {}
  },
  {
   "cell_type": "markdown",
   "source": [
    "________"
   ],
   "metadata": {}
  },
  {
   "cell_type": "markdown",
   "source": [
    "\n",
    "<strong> Exercice 6 </strong>  \n",
    "On rappelle que pour obtenir un nombre entier pseudo-aléatoire entre deux valeurs ```a``` et ```b```, on utilise l'instruction ```randint(a,b)```.\n",
    "    \n",
    "Cette instruction nécessite d'avoir écrit en toute première ligne du programme :\n",
    "```from random import randint```.\n",
    "    \n",
    "On rappelle aussi que pour convertir en nombre entier un nombre saisi par l'utilisateur, il est nécessaire d'utiliser la fonction ```int()```, comme dans l'exemple :\n",
    "    ```x = int(input(\"entrez un nombre\"))```\n",
    "    \n",
    "    \n",
    "Le but de cet exercice est de créer un jeu où l'utilisateur doit deviner un nombre choisi par le programme, entre 1 et 100. Tant que l'utilisateur n'a pas trouvé, le programme doit l'aider par des instructions «trop grand !» ou «trop petit !»."
   ],
   "metadata": {
    "deletable": false,
    "editable": false
   }
  },
  {
   "cell_type": "code",
   "execution_count": null,
   "source": [
    "from random import randint\n",
    "mystere = randint(1, 100)\n",
    "\n",
    "while True:\n",
    "    proposition = int(input(\"Entrez un nombre entre 1 et 100 : \")) \n",
    "    if proposition == mystere:\n",
    "        print(\"bravo !\")\n",
    "        break\n",
    "    elif proposition > mystere:\n",
    "        print(\"trop grand !\")\n",
    "    else:\n",
    "        print(\"trop petit !\")"
   ],
   "outputs": [],
   "metadata": {}
  }
 ],
 "metadata": {
  "kernelspec": {
   "display_name": "Python 3.6.9 64-bit",
   "language": "python",
   "name": "python36964bit9f899ef1f6144dc3be0f32d67042f5ff"
  },
  "language_info": {
   "codemirror_mode": {
    "name": "ipython",
    "version": 3
   },
   "file_extension": ".py",
   "mimetype": "text/x-python",
   "name": "python",
   "nbconvert_exporter": "python",
   "pygments_lexer": "ipython3",
   "version": "3.8.10"
  }
 },
 "nbformat": 4,
 "nbformat_minor": 2
}