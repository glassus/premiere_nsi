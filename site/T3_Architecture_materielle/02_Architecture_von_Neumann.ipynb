{
 "cells": [
  {
   "cell_type": "markdown",
   "metadata": {},
   "source": [
    "# Architecture Von Neumann et langage assembleur\n"
   ]
  },
  {
   "cell_type": "markdown",
   "metadata": {},
   "source": [
    "# Le fonctionnement d'un processeur : modèle von Neumann\n",
    "\n",
    "![image](data/JVN.jpg)\n",
    "\n",
    "*[John Von Neumann](https://fr.wikipedia.org/wiki/John_von_Neumann) (1903-1957) est un mathématicien et physicien (et bien d'autres choses) américano-hongrois. Il a le premier théorisé l'architecture des processeurs, tels qu'ils fonctionnent encore aujourd'hui.*\n",
    "\n",
    "## Architecture von Neumann\n",
    "\n",
    "![image](data/arch.png)"
   ]
  },
  {
   "cell_type": "markdown",
   "metadata": {},
   "source": [
    "On distingue 4 zones essentielles :\n",
    "- le **CPU** (Central Processing Unit) qui contient lui-même :  \n",
    "    l'**Unité Arithmétique et Logique** (UAL) dans laquelle sont effectuées les opérations de base (addition, multiplication...) Cette zone comporte notamment les **registres** (peu nombreux, de l'ordre de la dixaine) qui sont les espaces de travail ultra-rapides dans lesquels l'UAL va effectuer ses calculs. Une fois ceux-ci effectués, les valeurs des registres repartent dans la mémoire.  \n",
    "    l'**Unité de contrôle**, qui va séquencer les opérations. Lorsqu'on parle d'un processeur à 3 GHz, cela signifie (approximativement) que Unité de Contrôle va envoyer l'ordre d'une nouvelle opération à l'UAL 3 milliards de fois par seconde.\n",
    "- la **mémoire**, qui contient à la fois les données à traiter et les instructions du programme. Cette idée de stocker au même endroit données et programme est l'idée centrale de l'architecture von Neumann.\n",
    "- les **bus** de communication (des fils électriques permettant de transporter les données entre les différents composants)\n",
    "- les **Entrées/Sorties**, permettant de gérer les informations avec l'extérieur.\n"
   ]
  },
  {
   "cell_type": "markdown",
   "metadata": {},
   "source": [
    "# Activité 1 : simulation d'un programme en assembleur"
   ]
  },
  {
   "cell_type": "markdown",
   "metadata": {},
   "source": [
    "Cette activité est disponible [ici](https://www.youtube.com/watch?v=5xABe90yolM) en vidéo.\n",
    "[![image](data/cap_video.png)](https://www.youtube.com/watch?v=5xABe90yolM)"
   ]
  },
  {
   "cell_type": "markdown",
   "metadata": {},
   "source": [
    "### Le programme que nous étudierons"
   ]
  },
  {
   "cell_type": "code",
   "execution_count": null,
   "metadata": {},
   "outputs": [],
   "source": [
    "a = 3\n",
    "b = 5\n",
    "c = a + b"
   ]
  },
  {
   "cell_type": "markdown",
   "metadata": {},
   "source": [
    "Ce programme est ici écrit en langage Python. Le processeur ne comprend pas ce langage : les instructions doivent lui être passées en langage-machine. C'est le rôle des interpréteurs (pour le Python, par exemple) ou des compilateurs (pour le C, par exemple) que de faire le lien entre le langage pratiqué par les humains (Python, C...) et le langage-machine, qui n'est qu'une succession de chiffres binaires.\n",
    "\n",
    "Par exemple : notre code ci-dessus s'écrit  \n"
   ]
  },
  {
   "cell_type": "raw",
   "metadata": {},
   "source": [
    "01010000 00001111 00011000 00000000\n",
    "00000000 00000000 01010000 00111111\n",
    "00011100 00000000 00000000 00000000\n",
    "01100000 00000011 01000000 00111111\n",
    "00100000 00000000 00000000 00000000\n",
    "00000000 00000000 00000000 00000000\n",
    "00000011 00000000 00000000 00000000\n",
    "00000101 00000000 00000000 00000000"
   ]
  },
  {
   "cell_type": "markdown",
   "metadata": {},
   "source": [
    "en langage-machine.  \n",
    "Comment a lieu cette transformation ?"
   ]
  },
  {
   "cell_type": "markdown",
   "metadata": {},
   "source": [
    " ### Au plus proche de la machine mais encore humainement compréhensible : le langage assembleur\n",
    " Il existe un langage dit de \"bas-niveau\" (au sens qu'il est plus proche du langage machine qu'un langage de haut-niveau comme le Python) qui permet de passer des instructions directement au processeur : c'est le langage assembleur (ou ASM).\n",
    " \n",
    "En assembleur, notre programme s'écrirait (par exemple) :"
   ]
  },
  {
   "cell_type": "code",
   "execution_count": null,
   "metadata": {},
   "outputs": [],
   "source": [
    ".pos 0\n",
    "    mrmovl a, %eax\n",
    "    mrmovl b, %ebx\n",
    "    addl %eax, %ebx\n",
    "    rmmovl %ebx, c\n",
    "    halt\n",
    "\n",
    ".align 4\n",
    "a:  .long 3\n",
    "b:  .long 5\n",
    "c:  .long\n",
    "\n",
    "    "
   ]
  },
  {
   "cell_type": "markdown",
   "metadata": {},
   "source": [
    "Le [simulateur Y86](http://dept-info.labri.fr/ENSEIGNEMENT/archi/js-y86/) permet de simuler la manière dont le processeur va exécuter ce programme. \n",
    "Vous pouvez retrouver le programme à charger [ici](./prog_asm.ys).\n",
    "\n",
    "![image](data/cap_Y86.png)\n",
    "\n",
    "*rappel : la totalité des lignes est commentée dans la vidéo disponible [ici](https://www.youtube.com/watch?v=5xABe90yolM)*\n"
   ]
  },
  {
   "cell_type": "markdown",
   "metadata": {},
   "source": [
    "#### Code en langage-machine :\n",
    "Sur la partie droite du simulateur, la zone Mémoire contient, après assemblage, la traduction de notre code en langage-machine  :"
   ]
  },
  {
   "cell_type": "raw",
   "metadata": {},
   "source": [
    "500f1800\n",
    "0000503f\n",
    "1c000000\n",
    "6003403f\n",
    "20000000\n",
    "00000000\n",
    "03000000\n",
    "05000000"
   ]
  },
  {
   "cell_type": "markdown",
   "metadata": {},
   "source": [
    "Une fois transformé en binaire, on retrouve le code donné au début du paragraphe précédent."
   ]
  },
  {
   "cell_type": "markdown",
   "metadata": {},
   "source": [
    "## Exercice"
   ]
  },
  {
   "cell_type": "markdown",
   "metadata": {},
   "source": [
    "Coder en assembleur la séquence d'instruction suivante :"
   ]
  },
  {
   "cell_type": "code",
   "execution_count": 1,
   "metadata": {},
   "outputs": [],
   "source": [
    "w = 10\n",
    "x = 3\n",
    "y = 5\n",
    "z = w - (x + y)"
   ]
  },
  {
   "cell_type": "markdown",
   "metadata": {},
   "source": [
    "Vous aurez pour cela besoin de l'instruction `subl rA rB` qui effectue l'opération `rB-rA` et la stocke dans `rB`. (`rA` et `rB` sont les noms des registres)."
   ]
  },
  {
   "cell_type": "markdown",
   "metadata": {},
   "source": [
    "\n",
    "## Notions essentielles \n",
    "- Les registres sont à percevoir comme des zones de travail temporaires, à l'accès très rapide. Les données font l'aller-retour entre la mémoire et le registre : elles sont stockées en mémoire, passent dans le registre pour y être modifiées, et reviennent en mémoire.\n",
    "- les données ET les instructions sont stockées ensemble dans la mémoire : c'est le principe fondateur de l'architecture Von Neumann. Ici, l'octet `03` situé à l'adresse `0x000d` signifie qu'il va falloir ajouter (on le sait grâce au `60` qui précède) le registre numéroté `0` (donc `%eax`) au registre numéroté `3` (donc `%ebx`). On retrouve un octet de même valeur `03` à l'adresse `0x0018`. Mais dans ce cas, cet octet n'est pas une instruction mais une simple donnée : c'est la valeur 3 qu'on a donnée à la variable $a$ dans notre programme. Cette caractéristique (une même valeur peut-être une donnée ou une instruction) peut provoquer des vulnérabilités : c'est notamment le principe fondateur de [l'injection SQL](https://fr.wikipedia.org/wiki/Injection_SQL)."
   ]
  },
  {
   "cell_type": "markdown",
   "metadata": {},
   "source": [
    "### Conclusion\n",
    "Le simulateur Y86 nous a permis d'observer comment un processeur réalise des opérations élémentaires. Nous avons découvert le langage assembleur, qui est un langage beaucoup moins agréable qu'un langage de haut-niveau, mais qui reste néanmoins compréhensible par un être humain. Certains informaticiens codent (encore de nos jours) directement en langage assembleur, pour \"coller\" au mieux au processeur et optimiser les ressources."
   ]
  },
  {
   "cell_type": "markdown",
   "metadata": {},
   "source": [
    "# Activité 2 : modification d'un programme par désassemblage\n",
    "\n",
    "On considère ci-dessous le programme `crackme.c`, rédigé en langage en C. Vous pouvez télécharger ce programme [ici](./desassemblage/crackme.c)."
   ]
  },
  {
   "cell_type": "code",
   "execution_count": null,
   "metadata": {},
   "outputs": [],
   "source": [
    "#include \"stdio.h\"\n",
    "#include \"stdlib.h\"\n",
    "#include \"string.h\"\n",
    "\n",
    "int main()\n",
    "{\n",
    "\n",
    "char saisie[50] = \"\";\n",
    "printf(\"Accès restreint : saisissez votre mot de passe \\n\");\n",
    "while (strcmp(saisie,\"NSIMAURIAC\")!=0)\n",
    "{\n",
    "printf(\"Mot de passe ? \\n\");\n",
    "scanf(\"%s\",&saisie);\n",
    "}\n",
    "\n",
    "printf(\"Accès autorisé \\n\");\n",
    "\n",
    "return 0;\n",
    "} "
   ]
  },
  {
   "cell_type": "markdown",
   "metadata": {},
   "source": [
    "- Que fait ce programme ?\n",
    "- Quel est le mot de passe ?\n",
    "\n"
   ]
  },
  {
   "cell_type": "markdown",
   "metadata": {},
   "source": [
    "### Compilation et exécution du programme\n",
    "\n",
    "- Dans un terminal, tapez l'instruction `gcc crackme.c -o crackme`.\n",
    "- Tapez `./crackme` et jouez avec le programme.\n",
    "\n"
   ]
  },
  {
   "cell_type": "markdown",
   "metadata": {},
   "source": [
    "### Observation du fichier binaire"
   ]
  },
  {
   "cell_type": "markdown",
   "metadata": {},
   "source": [
    "À l'aide du programme [GHex](https://doc.ubuntu-fr.org/ghex), il est possible d'aller observer la valeur des octets directement dans le fichier binaire `crackme`.\n",
    "![image](./desassemblage/cap_crackme)\n",
    "\n",
    "Ce fichier binaire est écrit en langage-machine. Il est donc incompréhensible pour un autre humain... même si GHex nous aide en affichant notamment (dans la partie droite) les chaînes de caractères... dont notre mot de passe ;)"
   ]
  },
  {
   "cell_type": "markdown",
   "metadata": {},
   "source": [
    "### Modification du fichier binaire\n",
    "Dans notre code C l'instruction `while (strcmp(saisie,\"NSIMAURIAC\")!=0)` est le cœur de la vérification du mot de passe. En assembleur, elle va donner naissance à une instruction `JNE` (pour Jump if Not Equal, voir [ici](https://www.gladir.com/LEXIQUE/ASM/jumpif.htm)). Cette instruction est codée en hexadécimal par l'opcode 75 C5. Nous allons rechercher ces octets et les remplacer par 90 90, 90 étant l'opcode pour `NOP` (ne rien faire).\n",
    "- Recherchez dans GHex 75 C5.\n",
    "- Remplacez par 90 90.\n",
    "- Sauvegardez le fichier sous le nom `crackme2`. Vous pouvez sinon le télécharger [ici](./desassemblage/crackme2)\n",
    "- Rendez ce fichier exécutable par `sudo chmod 777 crackme2`\n",
    "- Exécutez ce code et constatez les changements !"
   ]
  },
  {
   "cell_type": "markdown",
   "metadata": {},
   "source": [
    "### Conclusion\n",
    "Le désassemblage d'un programme est une opération très complexe et les opérations et chaînes de caractères qui apparaissent sont souvent incompréhensibles (parfois volontairement, dans le cas d'[obfuscation](https://www.supinfo.com/articles/single/602-qu-est-ce-que-obfuscation-code) de code).  \n",
    "Néanmoins, il est parfois possible d'agir au niveau le plus bas (le langage-machine) pour modifier un code, comme nous venons de le faire."
   ]
  }
 ],
 "metadata": {
  "kernelspec": {
   "display_name": "Python 3",
   "language": "python",
   "name": "python3"
  },
  "language_info": {
   "codemirror_mode": {
    "name": "ipython",
    "version": 3
   },
   "file_extension": ".py",
   "mimetype": "text/x-python",
   "name": "python",
   "nbconvert_exporter": "python",
   "pygments_lexer": "ipython3",
   "version": "3.6.8"
  },
  "toc": {
   "base_numbering": 1,
   "nav_menu": {},
   "number_sections": false,
   "sideBar": true,
   "skip_h1_title": false,
   "title_cell": "Table of Contents",
   "title_sidebar": "Contents",
   "toc_cell": false,
   "toc_position": {},
   "toc_section_display": true,
   "toc_window_display": false
  }
 },
 "nbformat": 4,
 "nbformat_minor": 2
}
